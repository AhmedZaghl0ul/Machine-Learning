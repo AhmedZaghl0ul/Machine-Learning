{
  "nbformat": 4,
  "nbformat_minor": 0,
  "metadata": {
    "colab": {
      "provenance": [],
      "authorship_tag": "ABX9TyPjt7ZLHURRazP7suvbdwa3",
      "include_colab_link": true
    },
    "kernelspec": {
      "name": "python3",
      "display_name": "Python 3"
    },
    "language_info": {
      "name": "python"
    }
  },
  "cells": [
    {
      "cell_type": "markdown",
      "metadata": {
        "id": "view-in-github",
        "colab_type": "text"
      },
      "source": [
        "<a href=\"https://colab.research.google.com/github/AhmedZaghl0ul/Machine-Learning/blob/main/Lung_Cancer.ipynb\" target=\"_parent\"><img src=\"https://colab.research.google.com/assets/colab-badge.svg\" alt=\"Open In Colab\"/></a>"
      ]
    },
    {
      "cell_type": "code",
      "metadata": {
        "colab": {
          "base_uri": "https://localhost:8080/"
        },
        "id": "90726f59",
        "outputId": "30e99ea3-a2de-4446-fda4-0b51d2169c49"
      },
      "source": [
        "from google.colab import drive\n",
        "drive.mount('/content/drive')"
      ],
      "execution_count": 1,
      "outputs": [
        {
          "output_type": "stream",
          "name": "stdout",
          "text": [
            "Mounted at /content/drive\n"
          ]
        }
      ]
    },
    {
      "cell_type": "code",
      "source": [
        "cd /content/drive/MyDrive/DataSets/"
      ],
      "metadata": {
        "colab": {
          "base_uri": "https://localhost:8080/"
        },
        "id": "h0s7XRZsjIhQ",
        "outputId": "a78f0777-5e9a-4059-bbb5-22709f62fcdd"
      },
      "execution_count": 2,
      "outputs": [
        {
          "output_type": "stream",
          "name": "stdout",
          "text": [
            "/content/drive/MyDrive/DataSets\n"
          ]
        }
      ]
    },
    {
      "cell_type": "code",
      "source": [
        "dir = 'lung_cancer.csv'"
      ],
      "metadata": {
        "id": "URUIBhPUjMAv"
      },
      "execution_count": 3,
      "outputs": []
    },
    {
      "cell_type": "code",
      "source": [
        "import pandas as pd\n",
        "df = pd.read_csv(dir)"
      ],
      "metadata": {
        "id": "eLOFvXrbjP2E"
      },
      "execution_count": 4,
      "outputs": []
    },
    {
      "cell_type": "code",
      "source": [
        "class_names = ['No' , 'Yes']"
      ],
      "metadata": {
        "id": "f8ztqzUNjTo2"
      },
      "execution_count": 5,
      "outputs": []
    },
    {
      "cell_type": "code",
      "source": [
        "df.head()"
      ],
      "metadata": {
        "colab": {
          "base_uri": "https://localhost:8080/",
          "height": 244
        },
        "id": "1kX7NLqav7Eg",
        "outputId": "d177f2b2-85c3-49b8-c697-9e023e4c187d"
      },
      "execution_count": 6,
      "outputs": [
        {
          "output_type": "execute_result",
          "data": {
            "text/plain": [
              "  GENDER  AGE  SMOKING  YELLOW_FINGERS  ANXIETY  PEER_PRESSURE  \\\n",
              "0      M   69        1               2        2              1   \n",
              "1      M   74        2               1        1              1   \n",
              "2      F   59        1               1        1              2   \n",
              "3      M   63        2               2        2              1   \n",
              "4      F   63        1               2        1              1   \n",
              "\n",
              "   CHRONIC DISEASE  FATIGUE   ALLERGY   WHEEZING  ALCOHOL CONSUMING  COUGHING  \\\n",
              "0                1         2         1         2                  2         2   \n",
              "1                2         2         2         1                  1         1   \n",
              "2                1         2         1         2                  1         2   \n",
              "3                1         1         1         1                  2         1   \n",
              "4                1         1         1         2                  1         2   \n",
              "\n",
              "   SHORTNESS OF BREATH  SWALLOWING DIFFICULTY  CHEST PAIN LUNG_CANCER  \n",
              "0                    2                      2           2         YES  \n",
              "1                    2                      2           2         YES  \n",
              "2                    2                      1           2          NO  \n",
              "3                    1                      2           2          NO  \n",
              "4                    2                      1           1          NO  "
            ],
            "text/html": [
              "\n",
              "  <div id=\"df-92b351c4-320f-444f-81fb-aef9afb0b650\" class=\"colab-df-container\">\n",
              "    <div>\n",
              "<style scoped>\n",
              "    .dataframe tbody tr th:only-of-type {\n",
              "        vertical-align: middle;\n",
              "    }\n",
              "\n",
              "    .dataframe tbody tr th {\n",
              "        vertical-align: top;\n",
              "    }\n",
              "\n",
              "    .dataframe thead th {\n",
              "        text-align: right;\n",
              "    }\n",
              "</style>\n",
              "<table border=\"1\" class=\"dataframe\">\n",
              "  <thead>\n",
              "    <tr style=\"text-align: right;\">\n",
              "      <th></th>\n",
              "      <th>GENDER</th>\n",
              "      <th>AGE</th>\n",
              "      <th>SMOKING</th>\n",
              "      <th>YELLOW_FINGERS</th>\n",
              "      <th>ANXIETY</th>\n",
              "      <th>PEER_PRESSURE</th>\n",
              "      <th>CHRONIC DISEASE</th>\n",
              "      <th>FATIGUE</th>\n",
              "      <th>ALLERGY</th>\n",
              "      <th>WHEEZING</th>\n",
              "      <th>ALCOHOL CONSUMING</th>\n",
              "      <th>COUGHING</th>\n",
              "      <th>SHORTNESS OF BREATH</th>\n",
              "      <th>SWALLOWING DIFFICULTY</th>\n",
              "      <th>CHEST PAIN</th>\n",
              "      <th>LUNG_CANCER</th>\n",
              "    </tr>\n",
              "  </thead>\n",
              "  <tbody>\n",
              "    <tr>\n",
              "      <th>0</th>\n",
              "      <td>M</td>\n",
              "      <td>69</td>\n",
              "      <td>1</td>\n",
              "      <td>2</td>\n",
              "      <td>2</td>\n",
              "      <td>1</td>\n",
              "      <td>1</td>\n",
              "      <td>2</td>\n",
              "      <td>1</td>\n",
              "      <td>2</td>\n",
              "      <td>2</td>\n",
              "      <td>2</td>\n",
              "      <td>2</td>\n",
              "      <td>2</td>\n",
              "      <td>2</td>\n",
              "      <td>YES</td>\n",
              "    </tr>\n",
              "    <tr>\n",
              "      <th>1</th>\n",
              "      <td>M</td>\n",
              "      <td>74</td>\n",
              "      <td>2</td>\n",
              "      <td>1</td>\n",
              "      <td>1</td>\n",
              "      <td>1</td>\n",
              "      <td>2</td>\n",
              "      <td>2</td>\n",
              "      <td>2</td>\n",
              "      <td>1</td>\n",
              "      <td>1</td>\n",
              "      <td>1</td>\n",
              "      <td>2</td>\n",
              "      <td>2</td>\n",
              "      <td>2</td>\n",
              "      <td>YES</td>\n",
              "    </tr>\n",
              "    <tr>\n",
              "      <th>2</th>\n",
              "      <td>F</td>\n",
              "      <td>59</td>\n",
              "      <td>1</td>\n",
              "      <td>1</td>\n",
              "      <td>1</td>\n",
              "      <td>2</td>\n",
              "      <td>1</td>\n",
              "      <td>2</td>\n",
              "      <td>1</td>\n",
              "      <td>2</td>\n",
              "      <td>1</td>\n",
              "      <td>2</td>\n",
              "      <td>2</td>\n",
              "      <td>1</td>\n",
              "      <td>2</td>\n",
              "      <td>NO</td>\n",
              "    </tr>\n",
              "    <tr>\n",
              "      <th>3</th>\n",
              "      <td>M</td>\n",
              "      <td>63</td>\n",
              "      <td>2</td>\n",
              "      <td>2</td>\n",
              "      <td>2</td>\n",
              "      <td>1</td>\n",
              "      <td>1</td>\n",
              "      <td>1</td>\n",
              "      <td>1</td>\n",
              "      <td>1</td>\n",
              "      <td>2</td>\n",
              "      <td>1</td>\n",
              "      <td>1</td>\n",
              "      <td>2</td>\n",
              "      <td>2</td>\n",
              "      <td>NO</td>\n",
              "    </tr>\n",
              "    <tr>\n",
              "      <th>4</th>\n",
              "      <td>F</td>\n",
              "      <td>63</td>\n",
              "      <td>1</td>\n",
              "      <td>2</td>\n",
              "      <td>1</td>\n",
              "      <td>1</td>\n",
              "      <td>1</td>\n",
              "      <td>1</td>\n",
              "      <td>1</td>\n",
              "      <td>2</td>\n",
              "      <td>1</td>\n",
              "      <td>2</td>\n",
              "      <td>2</td>\n",
              "      <td>1</td>\n",
              "      <td>1</td>\n",
              "      <td>NO</td>\n",
              "    </tr>\n",
              "  </tbody>\n",
              "</table>\n",
              "</div>\n",
              "    <div class=\"colab-df-buttons\">\n",
              "\n",
              "  <div class=\"colab-df-container\">\n",
              "    <button class=\"colab-df-convert\" onclick=\"convertToInteractive('df-92b351c4-320f-444f-81fb-aef9afb0b650')\"\n",
              "            title=\"Convert this dataframe to an interactive table.\"\n",
              "            style=\"display:none;\">\n",
              "\n",
              "  <svg xmlns=\"http://www.w3.org/2000/svg\" height=\"24px\" viewBox=\"0 -960 960 960\">\n",
              "    <path d=\"M120-120v-720h720v720H120Zm60-500h600v-160H180v160Zm220 220h160v-160H400v160Zm0 220h160v-160H400v160ZM180-400h160v-160H180v160Zm440 0h160v-160H620v160ZM180-180h160v-160H180v160Zm440 0h160v-160H620v160Z\"/>\n",
              "  </svg>\n",
              "    </button>\n",
              "\n",
              "  <style>\n",
              "    .colab-df-container {\n",
              "      display:flex;\n",
              "      gap: 12px;\n",
              "    }\n",
              "\n",
              "    .colab-df-convert {\n",
              "      background-color: #E8F0FE;\n",
              "      border: none;\n",
              "      border-radius: 50%;\n",
              "      cursor: pointer;\n",
              "      display: none;\n",
              "      fill: #1967D2;\n",
              "      height: 32px;\n",
              "      padding: 0 0 0 0;\n",
              "      width: 32px;\n",
              "    }\n",
              "\n",
              "    .colab-df-convert:hover {\n",
              "      background-color: #E2EBFA;\n",
              "      box-shadow: 0px 1px 2px rgba(60, 64, 67, 0.3), 0px 1px 3px 1px rgba(60, 64, 67, 0.15);\n",
              "      fill: #174EA6;\n",
              "    }\n",
              "\n",
              "    .colab-df-buttons div {\n",
              "      margin-bottom: 4px;\n",
              "    }\n",
              "\n",
              "    [theme=dark] .colab-df-convert {\n",
              "      background-color: #3B4455;\n",
              "      fill: #D2E3FC;\n",
              "    }\n",
              "\n",
              "    [theme=dark] .colab-df-convert:hover {\n",
              "      background-color: #434B5C;\n",
              "      box-shadow: 0px 1px 3px 1px rgba(0, 0, 0, 0.15);\n",
              "      filter: drop-shadow(0px 1px 2px rgba(0, 0, 0, 0.3));\n",
              "      fill: #FFFFFF;\n",
              "    }\n",
              "  </style>\n",
              "\n",
              "    <script>\n",
              "      const buttonEl =\n",
              "        document.querySelector('#df-92b351c4-320f-444f-81fb-aef9afb0b650 button.colab-df-convert');\n",
              "      buttonEl.style.display =\n",
              "        google.colab.kernel.accessAllowed ? 'block' : 'none';\n",
              "\n",
              "      async function convertToInteractive(key) {\n",
              "        const element = document.querySelector('#df-92b351c4-320f-444f-81fb-aef9afb0b650');\n",
              "        const dataTable =\n",
              "          await google.colab.kernel.invokeFunction('convertToInteractive',\n",
              "                                                    [key], {});\n",
              "        if (!dataTable) return;\n",
              "\n",
              "        const docLinkHtml = 'Like what you see? Visit the ' +\n",
              "          '<a target=\"_blank\" href=https://colab.research.google.com/notebooks/data_table.ipynb>data table notebook</a>'\n",
              "          + ' to learn more about interactive tables.';\n",
              "        element.innerHTML = '';\n",
              "        dataTable['output_type'] = 'display_data';\n",
              "        await google.colab.output.renderOutput(dataTable, element);\n",
              "        const docLink = document.createElement('div');\n",
              "        docLink.innerHTML = docLinkHtml;\n",
              "        element.appendChild(docLink);\n",
              "      }\n",
              "    </script>\n",
              "  </div>\n",
              "\n",
              "\n",
              "    <div id=\"df-6d1534f4-cbc9-4edc-8f8c-0a938010300a\">\n",
              "      <button class=\"colab-df-quickchart\" onclick=\"quickchart('df-6d1534f4-cbc9-4edc-8f8c-0a938010300a')\"\n",
              "                title=\"Suggest charts\"\n",
              "                style=\"display:none;\">\n",
              "\n",
              "<svg xmlns=\"http://www.w3.org/2000/svg\" height=\"24px\"viewBox=\"0 0 24 24\"\n",
              "     width=\"24px\">\n",
              "    <g>\n",
              "        <path d=\"M19 3H5c-1.1 0-2 .9-2 2v14c0 1.1.9 2 2 2h14c1.1 0 2-.9 2-2V5c0-1.1-.9-2-2-2zM9 17H7v-7h2v7zm4 0h-2V7h2v10zm4 0h-2v-4h2v4z\"/>\n",
              "    </g>\n",
              "</svg>\n",
              "      </button>\n",
              "\n",
              "<style>\n",
              "  .colab-df-quickchart {\n",
              "      --bg-color: #E8F0FE;\n",
              "      --fill-color: #1967D2;\n",
              "      --hover-bg-color: #E2EBFA;\n",
              "      --hover-fill-color: #174EA6;\n",
              "      --disabled-fill-color: #AAA;\n",
              "      --disabled-bg-color: #DDD;\n",
              "  }\n",
              "\n",
              "  [theme=dark] .colab-df-quickchart {\n",
              "      --bg-color: #3B4455;\n",
              "      --fill-color: #D2E3FC;\n",
              "      --hover-bg-color: #434B5C;\n",
              "      --hover-fill-color: #FFFFFF;\n",
              "      --disabled-bg-color: #3B4455;\n",
              "      --disabled-fill-color: #666;\n",
              "  }\n",
              "\n",
              "  .colab-df-quickchart {\n",
              "    background-color: var(--bg-color);\n",
              "    border: none;\n",
              "    border-radius: 50%;\n",
              "    cursor: pointer;\n",
              "    display: none;\n",
              "    fill: var(--fill-color);\n",
              "    height: 32px;\n",
              "    padding: 0;\n",
              "    width: 32px;\n",
              "  }\n",
              "\n",
              "  .colab-df-quickchart:hover {\n",
              "    background-color: var(--hover-bg-color);\n",
              "    box-shadow: 0 1px 2px rgba(60, 64, 67, 0.3), 0 1px 3px 1px rgba(60, 64, 67, 0.15);\n",
              "    fill: var(--button-hover-fill-color);\n",
              "  }\n",
              "\n",
              "  .colab-df-quickchart-complete:disabled,\n",
              "  .colab-df-quickchart-complete:disabled:hover {\n",
              "    background-color: var(--disabled-bg-color);\n",
              "    fill: var(--disabled-fill-color);\n",
              "    box-shadow: none;\n",
              "  }\n",
              "\n",
              "  .colab-df-spinner {\n",
              "    border: 2px solid var(--fill-color);\n",
              "    border-color: transparent;\n",
              "    border-bottom-color: var(--fill-color);\n",
              "    animation:\n",
              "      spin 1s steps(1) infinite;\n",
              "  }\n",
              "\n",
              "  @keyframes spin {\n",
              "    0% {\n",
              "      border-color: transparent;\n",
              "      border-bottom-color: var(--fill-color);\n",
              "      border-left-color: var(--fill-color);\n",
              "    }\n",
              "    20% {\n",
              "      border-color: transparent;\n",
              "      border-left-color: var(--fill-color);\n",
              "      border-top-color: var(--fill-color);\n",
              "    }\n",
              "    30% {\n",
              "      border-color: transparent;\n",
              "      border-left-color: var(--fill-color);\n",
              "      border-top-color: var(--fill-color);\n",
              "      border-right-color: var(--fill-color);\n",
              "    }\n",
              "    40% {\n",
              "      border-color: transparent;\n",
              "      border-right-color: var(--fill-color);\n",
              "      border-top-color: var(--fill-color);\n",
              "    }\n",
              "    60% {\n",
              "      border-color: transparent;\n",
              "      border-right-color: var(--fill-color);\n",
              "    }\n",
              "    80% {\n",
              "      border-color: transparent;\n",
              "      border-right-color: var(--fill-color);\n",
              "      border-bottom-color: var(--fill-color);\n",
              "    }\n",
              "    90% {\n",
              "      border-color: transparent;\n",
              "      border-bottom-color: var(--fill-color);\n",
              "    }\n",
              "  }\n",
              "</style>\n",
              "\n",
              "      <script>\n",
              "        async function quickchart(key) {\n",
              "          const quickchartButtonEl =\n",
              "            document.querySelector('#' + key + ' button');\n",
              "          quickchartButtonEl.disabled = true;  // To prevent multiple clicks.\n",
              "          quickchartButtonEl.classList.add('colab-df-spinner');\n",
              "          try {\n",
              "            const charts = await google.colab.kernel.invokeFunction(\n",
              "                'suggestCharts', [key], {});\n",
              "          } catch (error) {\n",
              "            console.error('Error during call to suggestCharts:', error);\n",
              "          }\n",
              "          quickchartButtonEl.classList.remove('colab-df-spinner');\n",
              "          quickchartButtonEl.classList.add('colab-df-quickchart-complete');\n",
              "        }\n",
              "        (() => {\n",
              "          let quickchartButtonEl =\n",
              "            document.querySelector('#df-6d1534f4-cbc9-4edc-8f8c-0a938010300a button');\n",
              "          quickchartButtonEl.style.display =\n",
              "            google.colab.kernel.accessAllowed ? 'block' : 'none';\n",
              "        })();\n",
              "      </script>\n",
              "    </div>\n",
              "\n",
              "    </div>\n",
              "  </div>\n"
            ],
            "application/vnd.google.colaboratory.intrinsic+json": {
              "type": "dataframe",
              "variable_name": "df",
              "summary": "{\n  \"name\": \"df\",\n  \"rows\": 309,\n  \"fields\": [\n    {\n      \"column\": \"GENDER\",\n      \"properties\": {\n        \"dtype\": \"category\",\n        \"num_unique_values\": 2,\n        \"samples\": [\n          \"F\",\n          \"M\"\n        ],\n        \"semantic_type\": \"\",\n        \"description\": \"\"\n      }\n    },\n    {\n      \"column\": \"AGE\",\n      \"properties\": {\n        \"dtype\": \"number\",\n        \"std\": 8,\n        \"min\": 21,\n        \"max\": 87,\n        \"num_unique_values\": 39,\n        \"samples\": [\n          81,\n          39\n        ],\n        \"semantic_type\": \"\",\n        \"description\": \"\"\n      }\n    },\n    {\n      \"column\": \"SMOKING\",\n      \"properties\": {\n        \"dtype\": \"number\",\n        \"std\": 0,\n        \"min\": 1,\n        \"max\": 2,\n        \"num_unique_values\": 2,\n        \"samples\": [\n          2,\n          1\n        ],\n        \"semantic_type\": \"\",\n        \"description\": \"\"\n      }\n    },\n    {\n      \"column\": \"YELLOW_FINGERS\",\n      \"properties\": {\n        \"dtype\": \"number\",\n        \"std\": 0,\n        \"min\": 1,\n        \"max\": 2,\n        \"num_unique_values\": 2,\n        \"samples\": [\n          1,\n          2\n        ],\n        \"semantic_type\": \"\",\n        \"description\": \"\"\n      }\n    },\n    {\n      \"column\": \"ANXIETY\",\n      \"properties\": {\n        \"dtype\": \"number\",\n        \"std\": 0,\n        \"min\": 1,\n        \"max\": 2,\n        \"num_unique_values\": 2,\n        \"samples\": [\n          1,\n          2\n        ],\n        \"semantic_type\": \"\",\n        \"description\": \"\"\n      }\n    },\n    {\n      \"column\": \"PEER_PRESSURE\",\n      \"properties\": {\n        \"dtype\": \"number\",\n        \"std\": 0,\n        \"min\": 1,\n        \"max\": 2,\n        \"num_unique_values\": 2,\n        \"samples\": [\n          2,\n          1\n        ],\n        \"semantic_type\": \"\",\n        \"description\": \"\"\n      }\n    },\n    {\n      \"column\": \"CHRONIC DISEASE\",\n      \"properties\": {\n        \"dtype\": \"number\",\n        \"std\": 0,\n        \"min\": 1,\n        \"max\": 2,\n        \"num_unique_values\": 2,\n        \"samples\": [\n          2,\n          1\n        ],\n        \"semantic_type\": \"\",\n        \"description\": \"\"\n      }\n    },\n    {\n      \"column\": \"FATIGUE \",\n      \"properties\": {\n        \"dtype\": \"number\",\n        \"std\": 0,\n        \"min\": 1,\n        \"max\": 2,\n        \"num_unique_values\": 2,\n        \"samples\": [\n          1,\n          2\n        ],\n        \"semantic_type\": \"\",\n        \"description\": \"\"\n      }\n    },\n    {\n      \"column\": \"ALLERGY \",\n      \"properties\": {\n        \"dtype\": \"number\",\n        \"std\": 0,\n        \"min\": 1,\n        \"max\": 2,\n        \"num_unique_values\": 2,\n        \"samples\": [\n          2,\n          1\n        ],\n        \"semantic_type\": \"\",\n        \"description\": \"\"\n      }\n    },\n    {\n      \"column\": \"WHEEZING\",\n      \"properties\": {\n        \"dtype\": \"number\",\n        \"std\": 0,\n        \"min\": 1,\n        \"max\": 2,\n        \"num_unique_values\": 2,\n        \"samples\": [\n          1,\n          2\n        ],\n        \"semantic_type\": \"\",\n        \"description\": \"\"\n      }\n    },\n    {\n      \"column\": \"ALCOHOL CONSUMING\",\n      \"properties\": {\n        \"dtype\": \"number\",\n        \"std\": 0,\n        \"min\": 1,\n        \"max\": 2,\n        \"num_unique_values\": 2,\n        \"samples\": [\n          1,\n          2\n        ],\n        \"semantic_type\": \"\",\n        \"description\": \"\"\n      }\n    },\n    {\n      \"column\": \"COUGHING\",\n      \"properties\": {\n        \"dtype\": \"number\",\n        \"std\": 0,\n        \"min\": 1,\n        \"max\": 2,\n        \"num_unique_values\": 2,\n        \"samples\": [\n          1,\n          2\n        ],\n        \"semantic_type\": \"\",\n        \"description\": \"\"\n      }\n    },\n    {\n      \"column\": \"SHORTNESS OF BREATH\",\n      \"properties\": {\n        \"dtype\": \"number\",\n        \"std\": 0,\n        \"min\": 1,\n        \"max\": 2,\n        \"num_unique_values\": 2,\n        \"samples\": [\n          1,\n          2\n        ],\n        \"semantic_type\": \"\",\n        \"description\": \"\"\n      }\n    },\n    {\n      \"column\": \"SWALLOWING DIFFICULTY\",\n      \"properties\": {\n        \"dtype\": \"number\",\n        \"std\": 0,\n        \"min\": 1,\n        \"max\": 2,\n        \"num_unique_values\": 2,\n        \"samples\": [\n          1,\n          2\n        ],\n        \"semantic_type\": \"\",\n        \"description\": \"\"\n      }\n    },\n    {\n      \"column\": \"CHEST PAIN\",\n      \"properties\": {\n        \"dtype\": \"number\",\n        \"std\": 0,\n        \"min\": 1,\n        \"max\": 2,\n        \"num_unique_values\": 2,\n        \"samples\": [\n          1,\n          2\n        ],\n        \"semantic_type\": \"\",\n        \"description\": \"\"\n      }\n    },\n    {\n      \"column\": \"LUNG_CANCER\",\n      \"properties\": {\n        \"dtype\": \"category\",\n        \"num_unique_values\": 2,\n        \"samples\": [\n          \"NO\",\n          \"YES\"\n        ],\n        \"semantic_type\": \"\",\n        \"description\": \"\"\n      }\n    }\n  ]\n}"
            }
          },
          "metadata": {},
          "execution_count": 6
        }
      ]
    },
    {
      "cell_type": "code",
      "source": [
        "df.info()"
      ],
      "metadata": {
        "colab": {
          "base_uri": "https://localhost:8080/"
        },
        "id": "ISNRUCkWv85K",
        "outputId": "77cfbdc4-f736-4583-c441-fe7a5441abbe"
      },
      "execution_count": 7,
      "outputs": [
        {
          "output_type": "stream",
          "name": "stdout",
          "text": [
            "<class 'pandas.core.frame.DataFrame'>\n",
            "RangeIndex: 309 entries, 0 to 308\n",
            "Data columns (total 16 columns):\n",
            " #   Column                 Non-Null Count  Dtype \n",
            "---  ------                 --------------  ----- \n",
            " 0   GENDER                 309 non-null    object\n",
            " 1   AGE                    309 non-null    int64 \n",
            " 2   SMOKING                309 non-null    int64 \n",
            " 3   YELLOW_FINGERS         309 non-null    int64 \n",
            " 4   ANXIETY                309 non-null    int64 \n",
            " 5   PEER_PRESSURE          309 non-null    int64 \n",
            " 6   CHRONIC DISEASE        309 non-null    int64 \n",
            " 7   FATIGUE                309 non-null    int64 \n",
            " 8   ALLERGY                309 non-null    int64 \n",
            " 9   WHEEZING               309 non-null    int64 \n",
            " 10  ALCOHOL CONSUMING      309 non-null    int64 \n",
            " 11  COUGHING               309 non-null    int64 \n",
            " 12  SHORTNESS OF BREATH    309 non-null    int64 \n",
            " 13  SWALLOWING DIFFICULTY  309 non-null    int64 \n",
            " 14  CHEST PAIN             309 non-null    int64 \n",
            " 15  LUNG_CANCER            309 non-null    object\n",
            "dtypes: int64(14), object(2)\n",
            "memory usage: 38.8+ KB\n"
          ]
        }
      ]
    },
    {
      "cell_type": "code",
      "source": [
        "df.duplicated().sum()"
      ],
      "metadata": {
        "colab": {
          "base_uri": "https://localhost:8080/"
        },
        "id": "GwOccwEWwDM2",
        "outputId": "ba044edb-0df9-42cf-f285-cc43fd4b6719"
      },
      "execution_count": 9,
      "outputs": [
        {
          "output_type": "execute_result",
          "data": {
            "text/plain": [
              "np.int64(33)"
            ]
          },
          "metadata": {},
          "execution_count": 9
        }
      ]
    },
    {
      "cell_type": "code",
      "source": [
        "df.drop_duplicates(inplace=True)"
      ],
      "metadata": {
        "id": "mtTBiw5GwGVt"
      },
      "execution_count": 10,
      "outputs": []
    },
    {
      "cell_type": "code",
      "source": [
        "df.shape"
      ],
      "metadata": {
        "colab": {
          "base_uri": "https://localhost:8080/"
        },
        "id": "0fxTdfJkwPkI",
        "outputId": "1196809a-eb59-4c4f-ed79-82bad11f9641"
      },
      "execution_count": 11,
      "outputs": [
        {
          "output_type": "execute_result",
          "data": {
            "text/plain": [
              "(276, 16)"
            ]
          },
          "metadata": {},
          "execution_count": 11
        }
      ]
    },
    {
      "cell_type": "code",
      "source": [
        "df.columns"
      ],
      "metadata": {
        "colab": {
          "base_uri": "https://localhost:8080/"
        },
        "id": "5tjblXEQwRYg",
        "outputId": "a63e556e-5d6c-4491-d737-252f752c4699"
      },
      "execution_count": 12,
      "outputs": [
        {
          "output_type": "execute_result",
          "data": {
            "text/plain": [
              "Index(['GENDER', 'AGE', 'SMOKING', 'YELLOW_FINGERS', 'ANXIETY',\n",
              "       'PEER_PRESSURE', 'CHRONIC DISEASE', 'FATIGUE ', 'ALLERGY ', 'WHEEZING',\n",
              "       'ALCOHOL CONSUMING', 'COUGHING', 'SHORTNESS OF BREATH',\n",
              "       'SWALLOWING DIFFICULTY', 'CHEST PAIN', 'LUNG_CANCER'],\n",
              "      dtype='object')"
            ]
          },
          "metadata": {},
          "execution_count": 12
        }
      ]
    },
    {
      "cell_type": "code",
      "source": [
        "df['LUNG_CANCER'].value_counts()"
      ],
      "metadata": {
        "colab": {
          "base_uri": "https://localhost:8080/",
          "height": 178
        },
        "id": "TJhEDg-QwTxI",
        "outputId": "d08300ed-f76f-4c1a-cf03-2fe62ad3fdf6"
      },
      "execution_count": 14,
      "outputs": [
        {
          "output_type": "execute_result",
          "data": {
            "text/plain": [
              "LUNG_CANCER\n",
              "YES    238\n",
              "NO      38\n",
              "Name: count, dtype: int64"
            ],
            "text/html": [
              "<div>\n",
              "<style scoped>\n",
              "    .dataframe tbody tr th:only-of-type {\n",
              "        vertical-align: middle;\n",
              "    }\n",
              "\n",
              "    .dataframe tbody tr th {\n",
              "        vertical-align: top;\n",
              "    }\n",
              "\n",
              "    .dataframe thead th {\n",
              "        text-align: right;\n",
              "    }\n",
              "</style>\n",
              "<table border=\"1\" class=\"dataframe\">\n",
              "  <thead>\n",
              "    <tr style=\"text-align: right;\">\n",
              "      <th></th>\n",
              "      <th>count</th>\n",
              "    </tr>\n",
              "    <tr>\n",
              "      <th>LUNG_CANCER</th>\n",
              "      <th></th>\n",
              "    </tr>\n",
              "  </thead>\n",
              "  <tbody>\n",
              "    <tr>\n",
              "      <th>YES</th>\n",
              "      <td>238</td>\n",
              "    </tr>\n",
              "    <tr>\n",
              "      <th>NO</th>\n",
              "      <td>38</td>\n",
              "    </tr>\n",
              "  </tbody>\n",
              "</table>\n",
              "</div><br><label><b>dtype:</b> int64</label>"
            ]
          },
          "metadata": {},
          "execution_count": 14
        }
      ]
    },
    {
      "cell_type": "code",
      "source": [
        "x = df.drop('LUNG_CANCER' , axis=1)\n",
        "y = df['LUNG_CANCER']"
      ],
      "metadata": {
        "id": "Zbo2K4jiwX1S"
      },
      "execution_count": 15,
      "outputs": []
    },
    {
      "cell_type": "code",
      "source": [
        "print(x.shape , y.shape)"
      ],
      "metadata": {
        "colab": {
          "base_uri": "https://localhost:8080/"
        },
        "id": "tUOFjAGHwabu",
        "outputId": "9f7ebff7-d9b5-4f79-c72d-13258402dd61"
      },
      "execution_count": 16,
      "outputs": [
        {
          "output_type": "stream",
          "name": "stdout",
          "text": [
            "(276, 15) (276,)\n"
          ]
        }
      ]
    },
    {
      "cell_type": "code",
      "source": [
        "from sklearn.preprocessing import LabelEncoder\n",
        "le = LabelEncoder()\n",
        "x['GENDER'] = le.fit_transform(x['GENDER'])"
      ],
      "metadata": {
        "colab": {
          "base_uri": "https://localhost:8080/",
          "height": 193
        },
        "id": "xme5dqHjwd6O",
        "outputId": "adea0b2d-2513-4944-ba42-173381c47220"
      },
      "execution_count": 44,
      "outputs": [
        {
          "output_type": "error",
          "ename": "IndexError",
          "evalue": "only integers, slices (`:`), ellipsis (`...`), numpy.newaxis (`None`) and integer or boolean arrays are valid indices",
          "traceback": [
            "\u001b[0;31m---------------------------------------------------------------------------\u001b[0m",
            "\u001b[0;31mIndexError\u001b[0m                                Traceback (most recent call last)",
            "\u001b[0;32m/tmp/ipython-input-1732415021.py\u001b[0m in \u001b[0;36m<cell line: 0>\u001b[0;34m()\u001b[0m\n\u001b[1;32m      1\u001b[0m \u001b[0;32mfrom\u001b[0m \u001b[0msklearn\u001b[0m\u001b[0;34m.\u001b[0m\u001b[0mpreprocessing\u001b[0m \u001b[0;32mimport\u001b[0m \u001b[0mLabelEncoder\u001b[0m\u001b[0;34m\u001b[0m\u001b[0;34m\u001b[0m\u001b[0m\n\u001b[1;32m      2\u001b[0m \u001b[0mle\u001b[0m \u001b[0;34m=\u001b[0m \u001b[0mLabelEncoder\u001b[0m\u001b[0;34m(\u001b[0m\u001b[0;34m)\u001b[0m\u001b[0;34m\u001b[0m\u001b[0;34m\u001b[0m\u001b[0m\n\u001b[0;32m----> 3\u001b[0;31m \u001b[0mx\u001b[0m\u001b[0;34m[\u001b[0m\u001b[0;34m'GENDER'\u001b[0m\u001b[0;34m]\u001b[0m \u001b[0;34m=\u001b[0m \u001b[0mle\u001b[0m\u001b[0;34m.\u001b[0m\u001b[0mfit_transform\u001b[0m\u001b[0;34m(\u001b[0m\u001b[0mx\u001b[0m\u001b[0;34m[\u001b[0m\u001b[0;34m'GENDER'\u001b[0m\u001b[0;34m]\u001b[0m\u001b[0;34m)\u001b[0m\u001b[0;34m\u001b[0m\u001b[0;34m\u001b[0m\u001b[0m\n\u001b[0m\u001b[1;32m      4\u001b[0m \u001b[0my\u001b[0m \u001b[0;34m=\u001b[0m \u001b[0my\u001b[0m\u001b[0;34m.\u001b[0m\u001b[0mmap\u001b[0m\u001b[0;34m(\u001b[0m\u001b[0;34m{\u001b[0m\u001b[0;34m'YES'\u001b[0m\u001b[0;34m:\u001b[0m\u001b[0;36m1\u001b[0m \u001b[0;34m,\u001b[0m \u001b[0;34m'NO'\u001b[0m\u001b[0;34m:\u001b[0m\u001b[0;36m0\u001b[0m\u001b[0;34m}\u001b[0m\u001b[0;34m)\u001b[0m\u001b[0;34m\u001b[0m\u001b[0;34m\u001b[0m\u001b[0m\n",
            "\u001b[0;31mIndexError\u001b[0m: only integers, slices (`:`), ellipsis (`...`), numpy.newaxis (`None`) and integer or boolean arrays are valid indices"
          ]
        }
      ]
    },
    {
      "cell_type": "code",
      "source": [
        "y = y.map({'YES':1 , 'NO':0})"
      ],
      "metadata": {
        "id": "_rmLcXCN1GaW"
      },
      "execution_count": 45,
      "outputs": []
    },
    {
      "cell_type": "code",
      "source": [
        "from sklearn.preprocessing import StandardScaler\n",
        "sc = StandardScaler()\n",
        "x = sc.fit_transform(x)"
      ],
      "metadata": {
        "id": "QEQQgrUkwrlB"
      },
      "execution_count": 18,
      "outputs": []
    },
    {
      "cell_type": "code",
      "source": [
        "from sklearn.model_selection import train_test_split\n",
        "x_train , x_test , y_train , y_test = train_test_split(x , y , test_size=0.2 , random_state=42)"
      ],
      "metadata": {
        "id": "VP__VZYzwu2L"
      },
      "execution_count": 46,
      "outputs": []
    },
    {
      "cell_type": "code",
      "source": [
        "print(x_train.shape , x_test.shape)"
      ],
      "metadata": {
        "colab": {
          "base_uri": "https://localhost:8080/"
        },
        "id": "xM0Zrd1ZwyCS",
        "outputId": "7887f8df-a8c4-4bd7-ec13-9a0a3c969084"
      },
      "execution_count": 47,
      "outputs": [
        {
          "output_type": "stream",
          "name": "stdout",
          "text": [
            "(220, 15) (56, 15)\n"
          ]
        }
      ]
    },
    {
      "cell_type": "code",
      "source": [
        "from collections import Counter\n",
        "counter = Counter(y_train)\n",
        "print(counter)"
      ],
      "metadata": {
        "colab": {
          "base_uri": "https://localhost:8080/"
        },
        "id": "gWx92V6Sw2lf",
        "outputId": "cd86448b-f409-4a82-e329-f80fc87afce5"
      },
      "execution_count": 48,
      "outputs": [
        {
          "output_type": "stream",
          "name": "stdout",
          "text": [
            "Counter({1: 194, 0: 26})\n"
          ]
        }
      ]
    },
    {
      "cell_type": "code",
      "source": [
        "from imblearn.over_sampling import RandomOverSampler\n",
        "ros = RandomOverSampler()\n",
        "x_train , y_train = ros.fit_resample(x_train , y_train)"
      ],
      "metadata": {
        "id": "8xOvHZCSw65M"
      },
      "execution_count": 49,
      "outputs": []
    },
    {
      "cell_type": "code",
      "source": [
        "print(x_train.shape , x_test.shape)"
      ],
      "metadata": {
        "colab": {
          "base_uri": "https://localhost:8080/"
        },
        "id": "2f_-_DcKxI9i",
        "outputId": "cd3cebe6-97f1-4f9a-d71e-af94c8c7e144"
      },
      "execution_count": 50,
      "outputs": [
        {
          "output_type": "stream",
          "name": "stdout",
          "text": [
            "(388, 15) (56, 15)\n"
          ]
        }
      ]
    },
    {
      "cell_type": "code",
      "source": [
        "from collections import Counter\n",
        "counter = Counter(y_train)\n",
        "print(counter)"
      ],
      "metadata": {
        "colab": {
          "base_uri": "https://localhost:8080/"
        },
        "id": "2z0mkH6qxKoN",
        "outputId": "04ccedae-931d-4eeb-e23c-f4371bbceba1"
      },
      "execution_count": 51,
      "outputs": [
        {
          "output_type": "stream",
          "name": "stdout",
          "text": [
            "Counter({1: 194, 0: 194})\n"
          ]
        }
      ]
    },
    {
      "cell_type": "code",
      "source": [
        "from sklearn.svm import SVC\n",
        "from sklearn.model_selection import GridSearchCV\n",
        "from sklearn.metrics import classification_report\n",
        "\n",
        "param_grid = {'C': [0.001 ,0.1 ,0.5, 1, 10,15,50, 100], 'gamma': [1, 0.1, 0.01, 0.001], 'kernel': ['rbf', 'linear']}\n",
        "\n",
        "grid = GridSearchCV(SVC(), param_grid,cv = 5)\n",
        "grid.fit(x_train, y_train)\n",
        "\n",
        "print(\"Best parameters found: \", grid.best_params_)\n",
        "print(\"Best score found: \", grid.best_score_)"
      ],
      "metadata": {
        "colab": {
          "base_uri": "https://localhost:8080/"
        },
        "id": "QNENpbfSxMf9",
        "outputId": "3110ede7-f8d5-4c20-ccc7-30db4ea26535"
      },
      "execution_count": 52,
      "outputs": [
        {
          "output_type": "stream",
          "name": "stdout",
          "text": [
            "Best parameters found:  {'C': 0.5, 'gamma': 1, 'kernel': 'rbf'}\n",
            "Best score found:  0.9896769896769897\n"
          ]
        }
      ]
    },
    {
      "cell_type": "code",
      "source": [
        "model = grid.best_estimator_\n",
        "ypred = model.predict(x_test)\n",
        "\n",
        "\n",
        "print(classification_report(y_test, ypred,digits=4))"
      ],
      "metadata": {
        "colab": {
          "base_uri": "https://localhost:8080/"
        },
        "id": "AqDBOxukx8rQ",
        "outputId": "122eec80-499b-49e1-df52-6821b5a79552"
      },
      "execution_count": 53,
      "outputs": [
        {
          "output_type": "stream",
          "name": "stdout",
          "text": [
            "              precision    recall  f1-score   support\n",
            "\n",
            "           0     1.0000    0.2500    0.4000        12\n",
            "           1     0.8302    1.0000    0.9072        44\n",
            "\n",
            "    accuracy                         0.8393        56\n",
            "   macro avg     0.9151    0.6250    0.6536        56\n",
            "weighted avg     0.8666    0.8393    0.7985        56\n",
            "\n"
          ]
        }
      ]
    },
    {
      "cell_type": "code",
      "source": [
        "from sklearn.tree import DecisionTreeClassifier\n",
        "\n",
        "param_grid_dt = {'max_depth': [None, 5, 10, 15, 20],\n",
        "                 'min_samples_split': [2, 5, 10],\n",
        "                 'min_samples_leaf': [1, 2, 4],\n",
        "                 'criterion': ['gini', 'entropy']}\n",
        "\n",
        "grid_dt = GridSearchCV(DecisionTreeClassifier(), param_grid_dt, cv=5, verbose=2)\n",
        "grid_dt.fit(x_train, y_train)\n",
        "\n",
        "print(\"Best parameters found for Decision Tree: \", grid_dt.best_params_)\n",
        "print(\"Best score found for Decision Tree: \", grid_dt.best_score_)"
      ],
      "metadata": {
        "colab": {
          "base_uri": "https://localhost:8080/"
        },
        "id": "FqSNXS7sx_H5",
        "outputId": "cc0a0d0a-b742-428b-ddbb-8439d7cec619"
      },
      "execution_count": 54,
      "outputs": [
        {
          "output_type": "stream",
          "name": "stdout",
          "text": [
            "Fitting 5 folds for each of 90 candidates, totalling 450 fits\n",
            "[CV] END criterion=gini, max_depth=None, min_samples_leaf=1, min_samples_split=2; total time=   0.0s\n",
            "[CV] END criterion=gini, max_depth=None, min_samples_leaf=1, min_samples_split=2; total time=   0.0s\n",
            "[CV] END criterion=gini, max_depth=None, min_samples_leaf=1, min_samples_split=2; total time=   0.0s\n",
            "[CV] END criterion=gini, max_depth=None, min_samples_leaf=1, min_samples_split=2; total time=   0.0s\n",
            "[CV] END criterion=gini, max_depth=None, min_samples_leaf=1, min_samples_split=2; total time=   0.0s\n",
            "[CV] END criterion=gini, max_depth=None, min_samples_leaf=1, min_samples_split=5; total time=   0.0s\n",
            "[CV] END criterion=gini, max_depth=None, min_samples_leaf=1, min_samples_split=5; total time=   0.0s\n",
            "[CV] END criterion=gini, max_depth=None, min_samples_leaf=1, min_samples_split=5; total time=   0.0s\n",
            "[CV] END criterion=gini, max_depth=None, min_samples_leaf=1, min_samples_split=5; total time=   0.0s\n",
            "[CV] END criterion=gini, max_depth=None, min_samples_leaf=1, min_samples_split=5; total time=   0.0s\n",
            "[CV] END criterion=gini, max_depth=None, min_samples_leaf=1, min_samples_split=10; total time=   0.0s\n",
            "[CV] END criterion=gini, max_depth=None, min_samples_leaf=1, min_samples_split=10; total time=   0.0s\n",
            "[CV] END criterion=gini, max_depth=None, min_samples_leaf=1, min_samples_split=10; total time=   0.0s\n",
            "[CV] END criterion=gini, max_depth=None, min_samples_leaf=1, min_samples_split=10; total time=   0.0s\n",
            "[CV] END criterion=gini, max_depth=None, min_samples_leaf=1, min_samples_split=10; total time=   0.0s\n",
            "[CV] END criterion=gini, max_depth=None, min_samples_leaf=2, min_samples_split=2; total time=   0.0s\n",
            "[CV] END criterion=gini, max_depth=None, min_samples_leaf=2, min_samples_split=2; total time=   0.0s\n",
            "[CV] END criterion=gini, max_depth=None, min_samples_leaf=2, min_samples_split=2; total time=   0.0s\n",
            "[CV] END criterion=gini, max_depth=None, min_samples_leaf=2, min_samples_split=2; total time=   0.0s\n",
            "[CV] END criterion=gini, max_depth=None, min_samples_leaf=2, min_samples_split=2; total time=   0.0s\n",
            "[CV] END criterion=gini, max_depth=None, min_samples_leaf=2, min_samples_split=5; total time=   0.0s\n",
            "[CV] END criterion=gini, max_depth=None, min_samples_leaf=2, min_samples_split=5; total time=   0.0s\n",
            "[CV] END criterion=gini, max_depth=None, min_samples_leaf=2, min_samples_split=5; total time=   0.0s\n",
            "[CV] END criterion=gini, max_depth=None, min_samples_leaf=2, min_samples_split=5; total time=   0.0s\n",
            "[CV] END criterion=gini, max_depth=None, min_samples_leaf=2, min_samples_split=5; total time=   0.0s\n",
            "[CV] END criterion=gini, max_depth=None, min_samples_leaf=2, min_samples_split=10; total time=   0.0s\n",
            "[CV] END criterion=gini, max_depth=None, min_samples_leaf=2, min_samples_split=10; total time=   0.0s\n",
            "[CV] END criterion=gini, max_depth=None, min_samples_leaf=2, min_samples_split=10; total time=   0.0s\n",
            "[CV] END criterion=gini, max_depth=None, min_samples_leaf=2, min_samples_split=10; total time=   0.0s\n",
            "[CV] END criterion=gini, max_depth=None, min_samples_leaf=2, min_samples_split=10; total time=   0.0s\n",
            "[CV] END criterion=gini, max_depth=None, min_samples_leaf=4, min_samples_split=2; total time=   0.0s\n",
            "[CV] END criterion=gini, max_depth=None, min_samples_leaf=4, min_samples_split=2; total time=   0.0s\n",
            "[CV] END criterion=gini, max_depth=None, min_samples_leaf=4, min_samples_split=2; total time=   0.0s\n",
            "[CV] END criterion=gini, max_depth=None, min_samples_leaf=4, min_samples_split=2; total time=   0.0s\n",
            "[CV] END criterion=gini, max_depth=None, min_samples_leaf=4, min_samples_split=2; total time=   0.0s\n",
            "[CV] END criterion=gini, max_depth=None, min_samples_leaf=4, min_samples_split=5; total time=   0.0s\n",
            "[CV] END criterion=gini, max_depth=None, min_samples_leaf=4, min_samples_split=5; total time=   0.0s\n",
            "[CV] END criterion=gini, max_depth=None, min_samples_leaf=4, min_samples_split=5; total time=   0.0s\n",
            "[CV] END criterion=gini, max_depth=None, min_samples_leaf=4, min_samples_split=5; total time=   0.0s\n",
            "[CV] END criterion=gini, max_depth=None, min_samples_leaf=4, min_samples_split=5; total time=   0.0s\n",
            "[CV] END criterion=gini, max_depth=None, min_samples_leaf=4, min_samples_split=10; total time=   0.0s\n",
            "[CV] END criterion=gini, max_depth=None, min_samples_leaf=4, min_samples_split=10; total time=   0.0s\n",
            "[CV] END criterion=gini, max_depth=None, min_samples_leaf=4, min_samples_split=10; total time=   0.0s\n",
            "[CV] END criterion=gini, max_depth=None, min_samples_leaf=4, min_samples_split=10; total time=   0.0s\n",
            "[CV] END criterion=gini, max_depth=None, min_samples_leaf=4, min_samples_split=10; total time=   0.0s\n",
            "[CV] END criterion=gini, max_depth=5, min_samples_leaf=1, min_samples_split=2; total time=   0.0s\n",
            "[CV] END criterion=gini, max_depth=5, min_samples_leaf=1, min_samples_split=2; total time=   0.0s\n",
            "[CV] END criterion=gini, max_depth=5, min_samples_leaf=1, min_samples_split=2; total time=   0.0s\n",
            "[CV] END criterion=gini, max_depth=5, min_samples_leaf=1, min_samples_split=2; total time=   0.0s\n",
            "[CV] END criterion=gini, max_depth=5, min_samples_leaf=1, min_samples_split=2; total time=   0.0s\n",
            "[CV] END criterion=gini, max_depth=5, min_samples_leaf=1, min_samples_split=5; total time=   0.0s\n",
            "[CV] END criterion=gini, max_depth=5, min_samples_leaf=1, min_samples_split=5; total time=   0.0s\n",
            "[CV] END criterion=gini, max_depth=5, min_samples_leaf=1, min_samples_split=5; total time=   0.0s\n",
            "[CV] END criterion=gini, max_depth=5, min_samples_leaf=1, min_samples_split=5; total time=   0.0s\n",
            "[CV] END criterion=gini, max_depth=5, min_samples_leaf=1, min_samples_split=5; total time=   0.0s\n",
            "[CV] END criterion=gini, max_depth=5, min_samples_leaf=1, min_samples_split=10; total time=   0.0s\n",
            "[CV] END criterion=gini, max_depth=5, min_samples_leaf=1, min_samples_split=10; total time=   0.0s\n",
            "[CV] END criterion=gini, max_depth=5, min_samples_leaf=1, min_samples_split=10; total time=   0.0s\n",
            "[CV] END criterion=gini, max_depth=5, min_samples_leaf=1, min_samples_split=10; total time=   0.0s\n",
            "[CV] END criterion=gini, max_depth=5, min_samples_leaf=1, min_samples_split=10; total time=   0.0s\n",
            "[CV] END criterion=gini, max_depth=5, min_samples_leaf=2, min_samples_split=2; total time=   0.0s\n",
            "[CV] END criterion=gini, max_depth=5, min_samples_leaf=2, min_samples_split=2; total time=   0.0s\n",
            "[CV] END criterion=gini, max_depth=5, min_samples_leaf=2, min_samples_split=2; total time=   0.0s\n",
            "[CV] END criterion=gini, max_depth=5, min_samples_leaf=2, min_samples_split=2; total time=   0.0s\n",
            "[CV] END criterion=gini, max_depth=5, min_samples_leaf=2, min_samples_split=2; total time=   0.0s\n",
            "[CV] END criterion=gini, max_depth=5, min_samples_leaf=2, min_samples_split=5; total time=   0.0s\n",
            "[CV] END criterion=gini, max_depth=5, min_samples_leaf=2, min_samples_split=5; total time=   0.0s\n",
            "[CV] END criterion=gini, max_depth=5, min_samples_leaf=2, min_samples_split=5; total time=   0.0s\n",
            "[CV] END criterion=gini, max_depth=5, min_samples_leaf=2, min_samples_split=5; total time=   0.0s\n",
            "[CV] END criterion=gini, max_depth=5, min_samples_leaf=2, min_samples_split=5; total time=   0.0s\n",
            "[CV] END criterion=gini, max_depth=5, min_samples_leaf=2, min_samples_split=10; total time=   0.0s\n",
            "[CV] END criterion=gini, max_depth=5, min_samples_leaf=2, min_samples_split=10; total time=   0.0s\n",
            "[CV] END criterion=gini, max_depth=5, min_samples_leaf=2, min_samples_split=10; total time=   0.0s\n",
            "[CV] END criterion=gini, max_depth=5, min_samples_leaf=2, min_samples_split=10; total time=   0.0s\n",
            "[CV] END criterion=gini, max_depth=5, min_samples_leaf=2, min_samples_split=10; total time=   0.0s\n",
            "[CV] END criterion=gini, max_depth=5, min_samples_leaf=4, min_samples_split=2; total time=   0.0s\n",
            "[CV] END criterion=gini, max_depth=5, min_samples_leaf=4, min_samples_split=2; total time=   0.0s\n",
            "[CV] END criterion=gini, max_depth=5, min_samples_leaf=4, min_samples_split=2; total time=   0.0s\n",
            "[CV] END criterion=gini, max_depth=5, min_samples_leaf=4, min_samples_split=2; total time=   0.0s\n",
            "[CV] END criterion=gini, max_depth=5, min_samples_leaf=4, min_samples_split=2; total time=   0.0s\n",
            "[CV] END criterion=gini, max_depth=5, min_samples_leaf=4, min_samples_split=5; total time=   0.0s\n",
            "[CV] END criterion=gini, max_depth=5, min_samples_leaf=4, min_samples_split=5; total time=   0.0s\n",
            "[CV] END criterion=gini, max_depth=5, min_samples_leaf=4, min_samples_split=5; total time=   0.0s\n",
            "[CV] END criterion=gini, max_depth=5, min_samples_leaf=4, min_samples_split=5; total time=   0.0s\n",
            "[CV] END criterion=gini, max_depth=5, min_samples_leaf=4, min_samples_split=5; total time=   0.0s\n",
            "[CV] END criterion=gini, max_depth=5, min_samples_leaf=4, min_samples_split=10; total time=   0.0s\n",
            "[CV] END criterion=gini, max_depth=5, min_samples_leaf=4, min_samples_split=10; total time=   0.0s\n",
            "[CV] END criterion=gini, max_depth=5, min_samples_leaf=4, min_samples_split=10; total time=   0.0s\n",
            "[CV] END criterion=gini, max_depth=5, min_samples_leaf=4, min_samples_split=10; total time=   0.0s\n",
            "[CV] END criterion=gini, max_depth=5, min_samples_leaf=4, min_samples_split=10; total time=   0.0s\n",
            "[CV] END criterion=gini, max_depth=10, min_samples_leaf=1, min_samples_split=2; total time=   0.0s\n",
            "[CV] END criterion=gini, max_depth=10, min_samples_leaf=1, min_samples_split=2; total time=   0.0s\n",
            "[CV] END criterion=gini, max_depth=10, min_samples_leaf=1, min_samples_split=2; total time=   0.0s\n",
            "[CV] END criterion=gini, max_depth=10, min_samples_leaf=1, min_samples_split=2; total time=   0.0s\n",
            "[CV] END criterion=gini, max_depth=10, min_samples_leaf=1, min_samples_split=2; total time=   0.0s\n",
            "[CV] END criterion=gini, max_depth=10, min_samples_leaf=1, min_samples_split=5; total time=   0.0s\n",
            "[CV] END criterion=gini, max_depth=10, min_samples_leaf=1, min_samples_split=5; total time=   0.0s\n",
            "[CV] END criterion=gini, max_depth=10, min_samples_leaf=1, min_samples_split=5; total time=   0.0s\n",
            "[CV] END criterion=gini, max_depth=10, min_samples_leaf=1, min_samples_split=5; total time=   0.0s\n",
            "[CV] END criterion=gini, max_depth=10, min_samples_leaf=1, min_samples_split=5; total time=   0.0s\n",
            "[CV] END criterion=gini, max_depth=10, min_samples_leaf=1, min_samples_split=10; total time=   0.0s\n",
            "[CV] END criterion=gini, max_depth=10, min_samples_leaf=1, min_samples_split=10; total time=   0.0s\n",
            "[CV] END criterion=gini, max_depth=10, min_samples_leaf=1, min_samples_split=10; total time=   0.0s\n",
            "[CV] END criterion=gini, max_depth=10, min_samples_leaf=1, min_samples_split=10; total time=   0.0s\n",
            "[CV] END criterion=gini, max_depth=10, min_samples_leaf=1, min_samples_split=10; total time=   0.0s\n",
            "[CV] END criterion=gini, max_depth=10, min_samples_leaf=2, min_samples_split=2; total time=   0.0s\n",
            "[CV] END criterion=gini, max_depth=10, min_samples_leaf=2, min_samples_split=2; total time=   0.0s\n",
            "[CV] END criterion=gini, max_depth=10, min_samples_leaf=2, min_samples_split=2; total time=   0.0s\n",
            "[CV] END criterion=gini, max_depth=10, min_samples_leaf=2, min_samples_split=2; total time=   0.0s\n",
            "[CV] END criterion=gini, max_depth=10, min_samples_leaf=2, min_samples_split=2; total time=   0.0s\n",
            "[CV] END criterion=gini, max_depth=10, min_samples_leaf=2, min_samples_split=5; total time=   0.0s\n",
            "[CV] END criterion=gini, max_depth=10, min_samples_leaf=2, min_samples_split=5; total time=   0.0s\n",
            "[CV] END criterion=gini, max_depth=10, min_samples_leaf=2, min_samples_split=5; total time=   0.0s\n",
            "[CV] END criterion=gini, max_depth=10, min_samples_leaf=2, min_samples_split=5; total time=   0.0s\n",
            "[CV] END criterion=gini, max_depth=10, min_samples_leaf=2, min_samples_split=5; total time=   0.0s\n",
            "[CV] END criterion=gini, max_depth=10, min_samples_leaf=2, min_samples_split=10; total time=   0.0s\n",
            "[CV] END criterion=gini, max_depth=10, min_samples_leaf=2, min_samples_split=10; total time=   0.0s\n",
            "[CV] END criterion=gini, max_depth=10, min_samples_leaf=2, min_samples_split=10; total time=   0.0s\n",
            "[CV] END criterion=gini, max_depth=10, min_samples_leaf=2, min_samples_split=10; total time=   0.0s\n",
            "[CV] END criterion=gini, max_depth=10, min_samples_leaf=2, min_samples_split=10; total time=   0.0s\n",
            "[CV] END criterion=gini, max_depth=10, min_samples_leaf=4, min_samples_split=2; total time=   0.0s\n",
            "[CV] END criterion=gini, max_depth=10, min_samples_leaf=4, min_samples_split=2; total time=   0.0s\n",
            "[CV] END criterion=gini, max_depth=10, min_samples_leaf=4, min_samples_split=2; total time=   0.0s\n",
            "[CV] END criterion=gini, max_depth=10, min_samples_leaf=4, min_samples_split=2; total time=   0.0s\n",
            "[CV] END criterion=gini, max_depth=10, min_samples_leaf=4, min_samples_split=2; total time=   0.0s\n",
            "[CV] END criterion=gini, max_depth=10, min_samples_leaf=4, min_samples_split=5; total time=   0.0s\n",
            "[CV] END criterion=gini, max_depth=10, min_samples_leaf=4, min_samples_split=5; total time=   0.0s\n",
            "[CV] END criterion=gini, max_depth=10, min_samples_leaf=4, min_samples_split=5; total time=   0.0s\n",
            "[CV] END criterion=gini, max_depth=10, min_samples_leaf=4, min_samples_split=5; total time=   0.0s\n",
            "[CV] END criterion=gini, max_depth=10, min_samples_leaf=4, min_samples_split=5; total time=   0.0s\n",
            "[CV] END criterion=gini, max_depth=10, min_samples_leaf=4, min_samples_split=10; total time=   0.0s\n",
            "[CV] END criterion=gini, max_depth=10, min_samples_leaf=4, min_samples_split=10; total time=   0.0s\n",
            "[CV] END criterion=gini, max_depth=10, min_samples_leaf=4, min_samples_split=10; total time=   0.0s\n",
            "[CV] END criterion=gini, max_depth=10, min_samples_leaf=4, min_samples_split=10; total time=   0.0s\n",
            "[CV] END criterion=gini, max_depth=10, min_samples_leaf=4, min_samples_split=10; total time=   0.0s\n",
            "[CV] END criterion=gini, max_depth=15, min_samples_leaf=1, min_samples_split=2; total time=   0.0s\n",
            "[CV] END criterion=gini, max_depth=15, min_samples_leaf=1, min_samples_split=2; total time=   0.0s\n",
            "[CV] END criterion=gini, max_depth=15, min_samples_leaf=1, min_samples_split=2; total time=   0.0s\n",
            "[CV] END criterion=gini, max_depth=15, min_samples_leaf=1, min_samples_split=2; total time=   0.0s\n",
            "[CV] END criterion=gini, max_depth=15, min_samples_leaf=1, min_samples_split=2; total time=   0.0s\n",
            "[CV] END criterion=gini, max_depth=15, min_samples_leaf=1, min_samples_split=5; total time=   0.0s\n",
            "[CV] END criterion=gini, max_depth=15, min_samples_leaf=1, min_samples_split=5; total time=   0.0s\n",
            "[CV] END criterion=gini, max_depth=15, min_samples_leaf=1, min_samples_split=5; total time=   0.0s\n",
            "[CV] END criterion=gini, max_depth=15, min_samples_leaf=1, min_samples_split=5; total time=   0.0s\n",
            "[CV] END criterion=gini, max_depth=15, min_samples_leaf=1, min_samples_split=5; total time=   0.0s\n",
            "[CV] END criterion=gini, max_depth=15, min_samples_leaf=1, min_samples_split=10; total time=   0.0s\n",
            "[CV] END criterion=gini, max_depth=15, min_samples_leaf=1, min_samples_split=10; total time=   0.0s\n",
            "[CV] END criterion=gini, max_depth=15, min_samples_leaf=1, min_samples_split=10; total time=   0.0s\n",
            "[CV] END criterion=gini, max_depth=15, min_samples_leaf=1, min_samples_split=10; total time=   0.0s\n",
            "[CV] END criterion=gini, max_depth=15, min_samples_leaf=1, min_samples_split=10; total time=   0.0s\n",
            "[CV] END criterion=gini, max_depth=15, min_samples_leaf=2, min_samples_split=2; total time=   0.0s\n",
            "[CV] END criterion=gini, max_depth=15, min_samples_leaf=2, min_samples_split=2; total time=   0.0s\n",
            "[CV] END criterion=gini, max_depth=15, min_samples_leaf=2, min_samples_split=2; total time=   0.0s\n",
            "[CV] END criterion=gini, max_depth=15, min_samples_leaf=2, min_samples_split=2; total time=   0.0s\n",
            "[CV] END criterion=gini, max_depth=15, min_samples_leaf=2, min_samples_split=2; total time=   0.0s\n",
            "[CV] END criterion=gini, max_depth=15, min_samples_leaf=2, min_samples_split=5; total time=   0.0s\n",
            "[CV] END criterion=gini, max_depth=15, min_samples_leaf=2, min_samples_split=5; total time=   0.0s\n",
            "[CV] END criterion=gini, max_depth=15, min_samples_leaf=2, min_samples_split=5; total time=   0.0s\n",
            "[CV] END criterion=gini, max_depth=15, min_samples_leaf=2, min_samples_split=5; total time=   0.0s\n",
            "[CV] END criterion=gini, max_depth=15, min_samples_leaf=2, min_samples_split=5; total time=   0.0s\n",
            "[CV] END criterion=gini, max_depth=15, min_samples_leaf=2, min_samples_split=10; total time=   0.0s\n",
            "[CV] END criterion=gini, max_depth=15, min_samples_leaf=2, min_samples_split=10; total time=   0.0s\n",
            "[CV] END criterion=gini, max_depth=15, min_samples_leaf=2, min_samples_split=10; total time=   0.0s\n",
            "[CV] END criterion=gini, max_depth=15, min_samples_leaf=2, min_samples_split=10; total time=   0.0s\n",
            "[CV] END criterion=gini, max_depth=15, min_samples_leaf=2, min_samples_split=10; total time=   0.0s\n",
            "[CV] END criterion=gini, max_depth=15, min_samples_leaf=4, min_samples_split=2; total time=   0.0s\n",
            "[CV] END criterion=gini, max_depth=15, min_samples_leaf=4, min_samples_split=2; total time=   0.0s\n",
            "[CV] END criterion=gini, max_depth=15, min_samples_leaf=4, min_samples_split=2; total time=   0.0s\n",
            "[CV] END criterion=gini, max_depth=15, min_samples_leaf=4, min_samples_split=2; total time=   0.0s\n",
            "[CV] END criterion=gini, max_depth=15, min_samples_leaf=4, min_samples_split=2; total time=   0.0s\n",
            "[CV] END criterion=gini, max_depth=15, min_samples_leaf=4, min_samples_split=5; total time=   0.0s\n",
            "[CV] END criterion=gini, max_depth=15, min_samples_leaf=4, min_samples_split=5; total time=   0.0s\n",
            "[CV] END criterion=gini, max_depth=15, min_samples_leaf=4, min_samples_split=5; total time=   0.0s\n",
            "[CV] END criterion=gini, max_depth=15, min_samples_leaf=4, min_samples_split=5; total time=   0.0s\n",
            "[CV] END criterion=gini, max_depth=15, min_samples_leaf=4, min_samples_split=5; total time=   0.0s\n",
            "[CV] END criterion=gini, max_depth=15, min_samples_leaf=4, min_samples_split=10; total time=   0.0s\n",
            "[CV] END criterion=gini, max_depth=15, min_samples_leaf=4, min_samples_split=10; total time=   0.0s\n",
            "[CV] END criterion=gini, max_depth=15, min_samples_leaf=4, min_samples_split=10; total time=   0.0s\n",
            "[CV] END criterion=gini, max_depth=15, min_samples_leaf=4, min_samples_split=10; total time=   0.0s\n",
            "[CV] END criterion=gini, max_depth=15, min_samples_leaf=4, min_samples_split=10; total time=   0.0s\n",
            "[CV] END criterion=gini, max_depth=20, min_samples_leaf=1, min_samples_split=2; total time=   0.0s\n",
            "[CV] END criterion=gini, max_depth=20, min_samples_leaf=1, min_samples_split=2; total time=   0.0s\n",
            "[CV] END criterion=gini, max_depth=20, min_samples_leaf=1, min_samples_split=2; total time=   0.0s\n",
            "[CV] END criterion=gini, max_depth=20, min_samples_leaf=1, min_samples_split=2; total time=   0.0s\n",
            "[CV] END criterion=gini, max_depth=20, min_samples_leaf=1, min_samples_split=2; total time=   0.0s\n",
            "[CV] END criterion=gini, max_depth=20, min_samples_leaf=1, min_samples_split=5; total time=   0.0s\n",
            "[CV] END criterion=gini, max_depth=20, min_samples_leaf=1, min_samples_split=5; total time=   0.0s\n",
            "[CV] END criterion=gini, max_depth=20, min_samples_leaf=1, min_samples_split=5; total time=   0.0s\n",
            "[CV] END criterion=gini, max_depth=20, min_samples_leaf=1, min_samples_split=5; total time=   0.0s\n",
            "[CV] END criterion=gini, max_depth=20, min_samples_leaf=1, min_samples_split=5; total time=   0.0s\n",
            "[CV] END criterion=gini, max_depth=20, min_samples_leaf=1, min_samples_split=10; total time=   0.0s\n",
            "[CV] END criterion=gini, max_depth=20, min_samples_leaf=1, min_samples_split=10; total time=   0.0s\n",
            "[CV] END criterion=gini, max_depth=20, min_samples_leaf=1, min_samples_split=10; total time=   0.0s\n",
            "[CV] END criterion=gini, max_depth=20, min_samples_leaf=1, min_samples_split=10; total time=   0.0s\n",
            "[CV] END criterion=gini, max_depth=20, min_samples_leaf=1, min_samples_split=10; total time=   0.0s\n",
            "[CV] END criterion=gini, max_depth=20, min_samples_leaf=2, min_samples_split=2; total time=   0.0s\n",
            "[CV] END criterion=gini, max_depth=20, min_samples_leaf=2, min_samples_split=2; total time=   0.0s\n",
            "[CV] END criterion=gini, max_depth=20, min_samples_leaf=2, min_samples_split=2; total time=   0.0s\n",
            "[CV] END criterion=gini, max_depth=20, min_samples_leaf=2, min_samples_split=2; total time=   0.0s\n",
            "[CV] END criterion=gini, max_depth=20, min_samples_leaf=2, min_samples_split=2; total time=   0.0s\n",
            "[CV] END criterion=gini, max_depth=20, min_samples_leaf=2, min_samples_split=5; total time=   0.0s\n",
            "[CV] END criterion=gini, max_depth=20, min_samples_leaf=2, min_samples_split=5; total time=   0.0s\n",
            "[CV] END criterion=gini, max_depth=20, min_samples_leaf=2, min_samples_split=5; total time=   0.0s\n",
            "[CV] END criterion=gini, max_depth=20, min_samples_leaf=2, min_samples_split=5; total time=   0.0s\n",
            "[CV] END criterion=gini, max_depth=20, min_samples_leaf=2, min_samples_split=5; total time=   0.0s\n",
            "[CV] END criterion=gini, max_depth=20, min_samples_leaf=2, min_samples_split=10; total time=   0.0s\n",
            "[CV] END criterion=gini, max_depth=20, min_samples_leaf=2, min_samples_split=10; total time=   0.0s\n",
            "[CV] END criterion=gini, max_depth=20, min_samples_leaf=2, min_samples_split=10; total time=   0.0s\n",
            "[CV] END criterion=gini, max_depth=20, min_samples_leaf=2, min_samples_split=10; total time=   0.0s\n",
            "[CV] END criterion=gini, max_depth=20, min_samples_leaf=2, min_samples_split=10; total time=   0.0s\n",
            "[CV] END criterion=gini, max_depth=20, min_samples_leaf=4, min_samples_split=2; total time=   0.0s\n",
            "[CV] END criterion=gini, max_depth=20, min_samples_leaf=4, min_samples_split=2; total time=   0.0s\n",
            "[CV] END criterion=gini, max_depth=20, min_samples_leaf=4, min_samples_split=2; total time=   0.0s\n",
            "[CV] END criterion=gini, max_depth=20, min_samples_leaf=4, min_samples_split=2; total time=   0.0s\n",
            "[CV] END criterion=gini, max_depth=20, min_samples_leaf=4, min_samples_split=2; total time=   0.0s\n",
            "[CV] END criterion=gini, max_depth=20, min_samples_leaf=4, min_samples_split=5; total time=   0.0s\n",
            "[CV] END criterion=gini, max_depth=20, min_samples_leaf=4, min_samples_split=5; total time=   0.0s\n",
            "[CV] END criterion=gini, max_depth=20, min_samples_leaf=4, min_samples_split=5; total time=   0.0s\n",
            "[CV] END criterion=gini, max_depth=20, min_samples_leaf=4, min_samples_split=5; total time=   0.0s\n",
            "[CV] END criterion=gini, max_depth=20, min_samples_leaf=4, min_samples_split=5; total time=   0.0s\n",
            "[CV] END criterion=gini, max_depth=20, min_samples_leaf=4, min_samples_split=10; total time=   0.0s\n",
            "[CV] END criterion=gini, max_depth=20, min_samples_leaf=4, min_samples_split=10; total time=   0.0s\n",
            "[CV] END criterion=gini, max_depth=20, min_samples_leaf=4, min_samples_split=10; total time=   0.0s\n",
            "[CV] END criterion=gini, max_depth=20, min_samples_leaf=4, min_samples_split=10; total time=   0.0s\n",
            "[CV] END criterion=gini, max_depth=20, min_samples_leaf=4, min_samples_split=10; total time=   0.0s\n",
            "[CV] END criterion=entropy, max_depth=None, min_samples_leaf=1, min_samples_split=2; total time=   0.0s\n",
            "[CV] END criterion=entropy, max_depth=None, min_samples_leaf=1, min_samples_split=2; total time=   0.0s\n",
            "[CV] END criterion=entropy, max_depth=None, min_samples_leaf=1, min_samples_split=2; total time=   0.0s\n",
            "[CV] END criterion=entropy, max_depth=None, min_samples_leaf=1, min_samples_split=2; total time=   0.0s\n",
            "[CV] END criterion=entropy, max_depth=None, min_samples_leaf=1, min_samples_split=2; total time=   0.0s\n",
            "[CV] END criterion=entropy, max_depth=None, min_samples_leaf=1, min_samples_split=5; total time=   0.0s\n",
            "[CV] END criterion=entropy, max_depth=None, min_samples_leaf=1, min_samples_split=5; total time=   0.0s\n",
            "[CV] END criterion=entropy, max_depth=None, min_samples_leaf=1, min_samples_split=5; total time=   0.0s\n",
            "[CV] END criterion=entropy, max_depth=None, min_samples_leaf=1, min_samples_split=5; total time=   0.0s\n",
            "[CV] END criterion=entropy, max_depth=None, min_samples_leaf=1, min_samples_split=5; total time=   0.0s\n",
            "[CV] END criterion=entropy, max_depth=None, min_samples_leaf=1, min_samples_split=10; total time=   0.0s\n",
            "[CV] END criterion=entropy, max_depth=None, min_samples_leaf=1, min_samples_split=10; total time=   0.0s\n",
            "[CV] END criterion=entropy, max_depth=None, min_samples_leaf=1, min_samples_split=10; total time=   0.0s\n",
            "[CV] END criterion=entropy, max_depth=None, min_samples_leaf=1, min_samples_split=10; total time=   0.0s\n",
            "[CV] END criterion=entropy, max_depth=None, min_samples_leaf=1, min_samples_split=10; total time=   0.0s\n",
            "[CV] END criterion=entropy, max_depth=None, min_samples_leaf=2, min_samples_split=2; total time=   0.0s\n",
            "[CV] END criterion=entropy, max_depth=None, min_samples_leaf=2, min_samples_split=2; total time=   0.0s\n",
            "[CV] END criterion=entropy, max_depth=None, min_samples_leaf=2, min_samples_split=2; total time=   0.0s\n",
            "[CV] END criterion=entropy, max_depth=None, min_samples_leaf=2, min_samples_split=2; total time=   0.0s\n",
            "[CV] END criterion=entropy, max_depth=None, min_samples_leaf=2, min_samples_split=2; total time=   0.0s\n",
            "[CV] END criterion=entropy, max_depth=None, min_samples_leaf=2, min_samples_split=5; total time=   0.0s\n",
            "[CV] END criterion=entropy, max_depth=None, min_samples_leaf=2, min_samples_split=5; total time=   0.0s\n",
            "[CV] END criterion=entropy, max_depth=None, min_samples_leaf=2, min_samples_split=5; total time=   0.0s\n",
            "[CV] END criterion=entropy, max_depth=None, min_samples_leaf=2, min_samples_split=5; total time=   0.0s\n",
            "[CV] END criterion=entropy, max_depth=None, min_samples_leaf=2, min_samples_split=5; total time=   0.0s\n",
            "[CV] END criterion=entropy, max_depth=None, min_samples_leaf=2, min_samples_split=10; total time=   0.0s\n",
            "[CV] END criterion=entropy, max_depth=None, min_samples_leaf=2, min_samples_split=10; total time=   0.0s\n",
            "[CV] END criterion=entropy, max_depth=None, min_samples_leaf=2, min_samples_split=10; total time=   0.0s\n",
            "[CV] END criterion=entropy, max_depth=None, min_samples_leaf=2, min_samples_split=10; total time=   0.0s\n",
            "[CV] END criterion=entropy, max_depth=None, min_samples_leaf=2, min_samples_split=10; total time=   0.0s\n",
            "[CV] END criterion=entropy, max_depth=None, min_samples_leaf=4, min_samples_split=2; total time=   0.0s\n",
            "[CV] END criterion=entropy, max_depth=None, min_samples_leaf=4, min_samples_split=2; total time=   0.0s\n",
            "[CV] END criterion=entropy, max_depth=None, min_samples_leaf=4, min_samples_split=2; total time=   0.0s\n",
            "[CV] END criterion=entropy, max_depth=None, min_samples_leaf=4, min_samples_split=2; total time=   0.0s\n",
            "[CV] END criterion=entropy, max_depth=None, min_samples_leaf=4, min_samples_split=2; total time=   0.0s\n",
            "[CV] END criterion=entropy, max_depth=None, min_samples_leaf=4, min_samples_split=5; total time=   0.0s\n",
            "[CV] END criterion=entropy, max_depth=None, min_samples_leaf=4, min_samples_split=5; total time=   0.0s\n",
            "[CV] END criterion=entropy, max_depth=None, min_samples_leaf=4, min_samples_split=5; total time=   0.0s\n",
            "[CV] END criterion=entropy, max_depth=None, min_samples_leaf=4, min_samples_split=5; total time=   0.0s\n",
            "[CV] END criterion=entropy, max_depth=None, min_samples_leaf=4, min_samples_split=5; total time=   0.0s\n",
            "[CV] END criterion=entropy, max_depth=None, min_samples_leaf=4, min_samples_split=10; total time=   0.0s\n",
            "[CV] END criterion=entropy, max_depth=None, min_samples_leaf=4, min_samples_split=10; total time=   0.0s\n",
            "[CV] END criterion=entropy, max_depth=None, min_samples_leaf=4, min_samples_split=10; total time=   0.0s\n",
            "[CV] END criterion=entropy, max_depth=None, min_samples_leaf=4, min_samples_split=10; total time=   0.0s\n",
            "[CV] END criterion=entropy, max_depth=None, min_samples_leaf=4, min_samples_split=10; total time=   0.0s\n",
            "[CV] END criterion=entropy, max_depth=5, min_samples_leaf=1, min_samples_split=2; total time=   0.0s\n",
            "[CV] END criterion=entropy, max_depth=5, min_samples_leaf=1, min_samples_split=2; total time=   0.0s\n",
            "[CV] END criterion=entropy, max_depth=5, min_samples_leaf=1, min_samples_split=2; total time=   0.0s\n",
            "[CV] END criterion=entropy, max_depth=5, min_samples_leaf=1, min_samples_split=2; total time=   0.0s\n",
            "[CV] END criterion=entropy, max_depth=5, min_samples_leaf=1, min_samples_split=2; total time=   0.0s\n",
            "[CV] END criterion=entropy, max_depth=5, min_samples_leaf=1, min_samples_split=5; total time=   0.0s\n",
            "[CV] END criterion=entropy, max_depth=5, min_samples_leaf=1, min_samples_split=5; total time=   0.0s\n",
            "[CV] END criterion=entropy, max_depth=5, min_samples_leaf=1, min_samples_split=5; total time=   0.0s\n",
            "[CV] END criterion=entropy, max_depth=5, min_samples_leaf=1, min_samples_split=5; total time=   0.0s\n",
            "[CV] END criterion=entropy, max_depth=5, min_samples_leaf=1, min_samples_split=5; total time=   0.0s\n",
            "[CV] END criterion=entropy, max_depth=5, min_samples_leaf=1, min_samples_split=10; total time=   0.0s\n",
            "[CV] END criterion=entropy, max_depth=5, min_samples_leaf=1, min_samples_split=10; total time=   0.0s\n",
            "[CV] END criterion=entropy, max_depth=5, min_samples_leaf=1, min_samples_split=10; total time=   0.0s\n",
            "[CV] END criterion=entropy, max_depth=5, min_samples_leaf=1, min_samples_split=10; total time=   0.0s\n",
            "[CV] END criterion=entropy, max_depth=5, min_samples_leaf=1, min_samples_split=10; total time=   0.0s\n",
            "[CV] END criterion=entropy, max_depth=5, min_samples_leaf=2, min_samples_split=2; total time=   0.0s\n",
            "[CV] END criterion=entropy, max_depth=5, min_samples_leaf=2, min_samples_split=2; total time=   0.0s\n",
            "[CV] END criterion=entropy, max_depth=5, min_samples_leaf=2, min_samples_split=2; total time=   0.0s\n",
            "[CV] END criterion=entropy, max_depth=5, min_samples_leaf=2, min_samples_split=2; total time=   0.0s\n",
            "[CV] END criterion=entropy, max_depth=5, min_samples_leaf=2, min_samples_split=2; total time=   0.0s\n",
            "[CV] END criterion=entropy, max_depth=5, min_samples_leaf=2, min_samples_split=5; total time=   0.0s\n",
            "[CV] END criterion=entropy, max_depth=5, min_samples_leaf=2, min_samples_split=5; total time=   0.0s\n",
            "[CV] END criterion=entropy, max_depth=5, min_samples_leaf=2, min_samples_split=5; total time=   0.0s\n",
            "[CV] END criterion=entropy, max_depth=5, min_samples_leaf=2, min_samples_split=5; total time=   0.0s\n",
            "[CV] END criterion=entropy, max_depth=5, min_samples_leaf=2, min_samples_split=5; total time=   0.0s\n",
            "[CV] END criterion=entropy, max_depth=5, min_samples_leaf=2, min_samples_split=10; total time=   0.0s\n",
            "[CV] END criterion=entropy, max_depth=5, min_samples_leaf=2, min_samples_split=10; total time=   0.0s\n",
            "[CV] END criterion=entropy, max_depth=5, min_samples_leaf=2, min_samples_split=10; total time=   0.0s\n",
            "[CV] END criterion=entropy, max_depth=5, min_samples_leaf=2, min_samples_split=10; total time=   0.0s\n",
            "[CV] END criterion=entropy, max_depth=5, min_samples_leaf=2, min_samples_split=10; total time=   0.0s\n",
            "[CV] END criterion=entropy, max_depth=5, min_samples_leaf=4, min_samples_split=2; total time=   0.0s\n",
            "[CV] END criterion=entropy, max_depth=5, min_samples_leaf=4, min_samples_split=2; total time=   0.0s\n",
            "[CV] END criterion=entropy, max_depth=5, min_samples_leaf=4, min_samples_split=2; total time=   0.0s\n",
            "[CV] END criterion=entropy, max_depth=5, min_samples_leaf=4, min_samples_split=2; total time=   0.0s\n",
            "[CV] END criterion=entropy, max_depth=5, min_samples_leaf=4, min_samples_split=2; total time=   0.0s\n",
            "[CV] END criterion=entropy, max_depth=5, min_samples_leaf=4, min_samples_split=5; total time=   0.0s\n",
            "[CV] END criterion=entropy, max_depth=5, min_samples_leaf=4, min_samples_split=5; total time=   0.0s\n",
            "[CV] END criterion=entropy, max_depth=5, min_samples_leaf=4, min_samples_split=5; total time=   0.0s\n",
            "[CV] END criterion=entropy, max_depth=5, min_samples_leaf=4, min_samples_split=5; total time=   0.0s\n",
            "[CV] END criterion=entropy, max_depth=5, min_samples_leaf=4, min_samples_split=5; total time=   0.0s\n",
            "[CV] END criterion=entropy, max_depth=5, min_samples_leaf=4, min_samples_split=10; total time=   0.0s\n",
            "[CV] END criterion=entropy, max_depth=5, min_samples_leaf=4, min_samples_split=10; total time=   0.0s\n",
            "[CV] END criterion=entropy, max_depth=5, min_samples_leaf=4, min_samples_split=10; total time=   0.0s\n",
            "[CV] END criterion=entropy, max_depth=5, min_samples_leaf=4, min_samples_split=10; total time=   0.0s\n",
            "[CV] END criterion=entropy, max_depth=5, min_samples_leaf=4, min_samples_split=10; total time=   0.0s\n",
            "[CV] END criterion=entropy, max_depth=10, min_samples_leaf=1, min_samples_split=2; total time=   0.0s\n",
            "[CV] END criterion=entropy, max_depth=10, min_samples_leaf=1, min_samples_split=2; total time=   0.0s\n",
            "[CV] END criterion=entropy, max_depth=10, min_samples_leaf=1, min_samples_split=2; total time=   0.0s\n",
            "[CV] END criterion=entropy, max_depth=10, min_samples_leaf=1, min_samples_split=2; total time=   0.0s\n",
            "[CV] END criterion=entropy, max_depth=10, min_samples_leaf=1, min_samples_split=2; total time=   0.0s\n",
            "[CV] END criterion=entropy, max_depth=10, min_samples_leaf=1, min_samples_split=5; total time=   0.0s\n",
            "[CV] END criterion=entropy, max_depth=10, min_samples_leaf=1, min_samples_split=5; total time=   0.0s\n",
            "[CV] END criterion=entropy, max_depth=10, min_samples_leaf=1, min_samples_split=5; total time=   0.0s\n",
            "[CV] END criterion=entropy, max_depth=10, min_samples_leaf=1, min_samples_split=5; total time=   0.0s\n",
            "[CV] END criterion=entropy, max_depth=10, min_samples_leaf=1, min_samples_split=5; total time=   0.0s\n",
            "[CV] END criterion=entropy, max_depth=10, min_samples_leaf=1, min_samples_split=10; total time=   0.0s\n",
            "[CV] END criterion=entropy, max_depth=10, min_samples_leaf=1, min_samples_split=10; total time=   0.0s\n",
            "[CV] END criterion=entropy, max_depth=10, min_samples_leaf=1, min_samples_split=10; total time=   0.0s\n",
            "[CV] END criterion=entropy, max_depth=10, min_samples_leaf=1, min_samples_split=10; total time=   0.0s\n",
            "[CV] END criterion=entropy, max_depth=10, min_samples_leaf=1, min_samples_split=10; total time=   0.0s\n",
            "[CV] END criterion=entropy, max_depth=10, min_samples_leaf=2, min_samples_split=2; total time=   0.0s\n",
            "[CV] END criterion=entropy, max_depth=10, min_samples_leaf=2, min_samples_split=2; total time=   0.0s\n",
            "[CV] END criterion=entropy, max_depth=10, min_samples_leaf=2, min_samples_split=2; total time=   0.0s\n",
            "[CV] END criterion=entropy, max_depth=10, min_samples_leaf=2, min_samples_split=2; total time=   0.0s\n",
            "[CV] END criterion=entropy, max_depth=10, min_samples_leaf=2, min_samples_split=2; total time=   0.0s\n",
            "[CV] END criterion=entropy, max_depth=10, min_samples_leaf=2, min_samples_split=5; total time=   0.0s\n",
            "[CV] END criterion=entropy, max_depth=10, min_samples_leaf=2, min_samples_split=5; total time=   0.0s\n",
            "[CV] END criterion=entropy, max_depth=10, min_samples_leaf=2, min_samples_split=5; total time=   0.0s\n",
            "[CV] END criterion=entropy, max_depth=10, min_samples_leaf=2, min_samples_split=5; total time=   0.0s\n",
            "[CV] END criterion=entropy, max_depth=10, min_samples_leaf=2, min_samples_split=5; total time=   0.0s\n",
            "[CV] END criterion=entropy, max_depth=10, min_samples_leaf=2, min_samples_split=10; total time=   0.0s\n",
            "[CV] END criterion=entropy, max_depth=10, min_samples_leaf=2, min_samples_split=10; total time=   0.0s\n",
            "[CV] END criterion=entropy, max_depth=10, min_samples_leaf=2, min_samples_split=10; total time=   0.0s\n",
            "[CV] END criterion=entropy, max_depth=10, min_samples_leaf=2, min_samples_split=10; total time=   0.0s\n",
            "[CV] END criterion=entropy, max_depth=10, min_samples_leaf=2, min_samples_split=10; total time=   0.0s\n",
            "[CV] END criterion=entropy, max_depth=10, min_samples_leaf=4, min_samples_split=2; total time=   0.0s\n",
            "[CV] END criterion=entropy, max_depth=10, min_samples_leaf=4, min_samples_split=2; total time=   0.0s\n",
            "[CV] END criterion=entropy, max_depth=10, min_samples_leaf=4, min_samples_split=2; total time=   0.0s\n",
            "[CV] END criterion=entropy, max_depth=10, min_samples_leaf=4, min_samples_split=2; total time=   0.0s\n",
            "[CV] END criterion=entropy, max_depth=10, min_samples_leaf=4, min_samples_split=2; total time=   0.0s\n",
            "[CV] END criterion=entropy, max_depth=10, min_samples_leaf=4, min_samples_split=5; total time=   0.0s\n",
            "[CV] END criterion=entropy, max_depth=10, min_samples_leaf=4, min_samples_split=5; total time=   0.0s\n",
            "[CV] END criterion=entropy, max_depth=10, min_samples_leaf=4, min_samples_split=5; total time=   0.0s\n",
            "[CV] END criterion=entropy, max_depth=10, min_samples_leaf=4, min_samples_split=5; total time=   0.0s\n",
            "[CV] END criterion=entropy, max_depth=10, min_samples_leaf=4, min_samples_split=5; total time=   0.0s\n",
            "[CV] END criterion=entropy, max_depth=10, min_samples_leaf=4, min_samples_split=10; total time=   0.0s\n",
            "[CV] END criterion=entropy, max_depth=10, min_samples_leaf=4, min_samples_split=10; total time=   0.0s\n",
            "[CV] END criterion=entropy, max_depth=10, min_samples_leaf=4, min_samples_split=10; total time=   0.0s\n",
            "[CV] END criterion=entropy, max_depth=10, min_samples_leaf=4, min_samples_split=10; total time=   0.0s\n",
            "[CV] END criterion=entropy, max_depth=10, min_samples_leaf=4, min_samples_split=10; total time=   0.0s\n",
            "[CV] END criterion=entropy, max_depth=15, min_samples_leaf=1, min_samples_split=2; total time=   0.0s\n",
            "[CV] END criterion=entropy, max_depth=15, min_samples_leaf=1, min_samples_split=2; total time=   0.0s\n",
            "[CV] END criterion=entropy, max_depth=15, min_samples_leaf=1, min_samples_split=2; total time=   0.0s\n",
            "[CV] END criterion=entropy, max_depth=15, min_samples_leaf=1, min_samples_split=2; total time=   0.0s\n",
            "[CV] END criterion=entropy, max_depth=15, min_samples_leaf=1, min_samples_split=2; total time=   0.0s\n",
            "[CV] END criterion=entropy, max_depth=15, min_samples_leaf=1, min_samples_split=5; total time=   0.0s\n",
            "[CV] END criterion=entropy, max_depth=15, min_samples_leaf=1, min_samples_split=5; total time=   0.0s\n",
            "[CV] END criterion=entropy, max_depth=15, min_samples_leaf=1, min_samples_split=5; total time=   0.0s\n",
            "[CV] END criterion=entropy, max_depth=15, min_samples_leaf=1, min_samples_split=5; total time=   0.0s\n",
            "[CV] END criterion=entropy, max_depth=15, min_samples_leaf=1, min_samples_split=5; total time=   0.0s\n",
            "[CV] END criterion=entropy, max_depth=15, min_samples_leaf=1, min_samples_split=10; total time=   0.0s\n",
            "[CV] END criterion=entropy, max_depth=15, min_samples_leaf=1, min_samples_split=10; total time=   0.0s\n",
            "[CV] END criterion=entropy, max_depth=15, min_samples_leaf=1, min_samples_split=10; total time=   0.0s\n",
            "[CV] END criterion=entropy, max_depth=15, min_samples_leaf=1, min_samples_split=10; total time=   0.0s\n",
            "[CV] END criterion=entropy, max_depth=15, min_samples_leaf=1, min_samples_split=10; total time=   0.0s\n",
            "[CV] END criterion=entropy, max_depth=15, min_samples_leaf=2, min_samples_split=2; total time=   0.0s\n",
            "[CV] END criterion=entropy, max_depth=15, min_samples_leaf=2, min_samples_split=2; total time=   0.0s\n",
            "[CV] END criterion=entropy, max_depth=15, min_samples_leaf=2, min_samples_split=2; total time=   0.0s\n",
            "[CV] END criterion=entropy, max_depth=15, min_samples_leaf=2, min_samples_split=2; total time=   0.0s\n",
            "[CV] END criterion=entropy, max_depth=15, min_samples_leaf=2, min_samples_split=2; total time=   0.0s\n",
            "[CV] END criterion=entropy, max_depth=15, min_samples_leaf=2, min_samples_split=5; total time=   0.0s\n",
            "[CV] END criterion=entropy, max_depth=15, min_samples_leaf=2, min_samples_split=5; total time=   0.0s\n",
            "[CV] END criterion=entropy, max_depth=15, min_samples_leaf=2, min_samples_split=5; total time=   0.0s\n",
            "[CV] END criterion=entropy, max_depth=15, min_samples_leaf=2, min_samples_split=5; total time=   0.0s\n",
            "[CV] END criterion=entropy, max_depth=15, min_samples_leaf=2, min_samples_split=5; total time=   0.0s\n",
            "[CV] END criterion=entropy, max_depth=15, min_samples_leaf=2, min_samples_split=10; total time=   0.0s\n",
            "[CV] END criterion=entropy, max_depth=15, min_samples_leaf=2, min_samples_split=10; total time=   0.0s\n",
            "[CV] END criterion=entropy, max_depth=15, min_samples_leaf=2, min_samples_split=10; total time=   0.0s\n",
            "[CV] END criterion=entropy, max_depth=15, min_samples_leaf=2, min_samples_split=10; total time=   0.0s\n",
            "[CV] END criterion=entropy, max_depth=15, min_samples_leaf=2, min_samples_split=10; total time=   0.0s\n",
            "[CV] END criterion=entropy, max_depth=15, min_samples_leaf=4, min_samples_split=2; total time=   0.0s\n",
            "[CV] END criterion=entropy, max_depth=15, min_samples_leaf=4, min_samples_split=2; total time=   0.0s\n",
            "[CV] END criterion=entropy, max_depth=15, min_samples_leaf=4, min_samples_split=2; total time=   0.0s\n",
            "[CV] END criterion=entropy, max_depth=15, min_samples_leaf=4, min_samples_split=2; total time=   0.0s\n",
            "[CV] END criterion=entropy, max_depth=15, min_samples_leaf=4, min_samples_split=2; total time=   0.0s\n",
            "[CV] END criterion=entropy, max_depth=15, min_samples_leaf=4, min_samples_split=5; total time=   0.0s\n",
            "[CV] END criterion=entropy, max_depth=15, min_samples_leaf=4, min_samples_split=5; total time=   0.0s\n",
            "[CV] END criterion=entropy, max_depth=15, min_samples_leaf=4, min_samples_split=5; total time=   0.0s\n",
            "[CV] END criterion=entropy, max_depth=15, min_samples_leaf=4, min_samples_split=5; total time=   0.0s\n",
            "[CV] END criterion=entropy, max_depth=15, min_samples_leaf=4, min_samples_split=5; total time=   0.0s\n",
            "[CV] END criterion=entropy, max_depth=15, min_samples_leaf=4, min_samples_split=10; total time=   0.0s\n",
            "[CV] END criterion=entropy, max_depth=15, min_samples_leaf=4, min_samples_split=10; total time=   0.0s\n",
            "[CV] END criterion=entropy, max_depth=15, min_samples_leaf=4, min_samples_split=10; total time=   0.0s\n",
            "[CV] END criterion=entropy, max_depth=15, min_samples_leaf=4, min_samples_split=10; total time=   0.0s\n",
            "[CV] END criterion=entropy, max_depth=15, min_samples_leaf=4, min_samples_split=10; total time=   0.0s\n",
            "[CV] END criterion=entropy, max_depth=20, min_samples_leaf=1, min_samples_split=2; total time=   0.0s\n",
            "[CV] END criterion=entropy, max_depth=20, min_samples_leaf=1, min_samples_split=2; total time=   0.0s\n",
            "[CV] END criterion=entropy, max_depth=20, min_samples_leaf=1, min_samples_split=2; total time=   0.0s\n",
            "[CV] END criterion=entropy, max_depth=20, min_samples_leaf=1, min_samples_split=2; total time=   0.0s\n",
            "[CV] END criterion=entropy, max_depth=20, min_samples_leaf=1, min_samples_split=2; total time=   0.0s\n",
            "[CV] END criterion=entropy, max_depth=20, min_samples_leaf=1, min_samples_split=5; total time=   0.0s\n",
            "[CV] END criterion=entropy, max_depth=20, min_samples_leaf=1, min_samples_split=5; total time=   0.0s\n",
            "[CV] END criterion=entropy, max_depth=20, min_samples_leaf=1, min_samples_split=5; total time=   0.0s\n",
            "[CV] END criterion=entropy, max_depth=20, min_samples_leaf=1, min_samples_split=5; total time=   0.0s\n",
            "[CV] END criterion=entropy, max_depth=20, min_samples_leaf=1, min_samples_split=5; total time=   0.0s\n",
            "[CV] END criterion=entropy, max_depth=20, min_samples_leaf=1, min_samples_split=10; total time=   0.0s\n",
            "[CV] END criterion=entropy, max_depth=20, min_samples_leaf=1, min_samples_split=10; total time=   0.0s\n",
            "[CV] END criterion=entropy, max_depth=20, min_samples_leaf=1, min_samples_split=10; total time=   0.0s\n",
            "[CV] END criterion=entropy, max_depth=20, min_samples_leaf=1, min_samples_split=10; total time=   0.0s\n",
            "[CV] END criterion=entropy, max_depth=20, min_samples_leaf=1, min_samples_split=10; total time=   0.0s\n",
            "[CV] END criterion=entropy, max_depth=20, min_samples_leaf=2, min_samples_split=2; total time=   0.0s\n",
            "[CV] END criterion=entropy, max_depth=20, min_samples_leaf=2, min_samples_split=2; total time=   0.0s\n",
            "[CV] END criterion=entropy, max_depth=20, min_samples_leaf=2, min_samples_split=2; total time=   0.0s\n",
            "[CV] END criterion=entropy, max_depth=20, min_samples_leaf=2, min_samples_split=2; total time=   0.0s\n",
            "[CV] END criterion=entropy, max_depth=20, min_samples_leaf=2, min_samples_split=2; total time=   0.0s\n",
            "[CV] END criterion=entropy, max_depth=20, min_samples_leaf=2, min_samples_split=5; total time=   0.0s\n",
            "[CV] END criterion=entropy, max_depth=20, min_samples_leaf=2, min_samples_split=5; total time=   0.0s\n",
            "[CV] END criterion=entropy, max_depth=20, min_samples_leaf=2, min_samples_split=5; total time=   0.0s\n",
            "[CV] END criterion=entropy, max_depth=20, min_samples_leaf=2, min_samples_split=5; total time=   0.0s\n",
            "[CV] END criterion=entropy, max_depth=20, min_samples_leaf=2, min_samples_split=5; total time=   0.0s\n",
            "[CV] END criterion=entropy, max_depth=20, min_samples_leaf=2, min_samples_split=10; total time=   0.0s\n",
            "[CV] END criterion=entropy, max_depth=20, min_samples_leaf=2, min_samples_split=10; total time=   0.0s\n",
            "[CV] END criterion=entropy, max_depth=20, min_samples_leaf=2, min_samples_split=10; total time=   0.0s\n",
            "[CV] END criterion=entropy, max_depth=20, min_samples_leaf=2, min_samples_split=10; total time=   0.0s\n",
            "[CV] END criterion=entropy, max_depth=20, min_samples_leaf=2, min_samples_split=10; total time=   0.0s\n",
            "[CV] END criterion=entropy, max_depth=20, min_samples_leaf=4, min_samples_split=2; total time=   0.0s\n",
            "[CV] END criterion=entropy, max_depth=20, min_samples_leaf=4, min_samples_split=2; total time=   0.0s\n",
            "[CV] END criterion=entropy, max_depth=20, min_samples_leaf=4, min_samples_split=2; total time=   0.0s\n",
            "[CV] END criterion=entropy, max_depth=20, min_samples_leaf=4, min_samples_split=2; total time=   0.0s\n",
            "[CV] END criterion=entropy, max_depth=20, min_samples_leaf=4, min_samples_split=2; total time=   0.0s\n",
            "[CV] END criterion=entropy, max_depth=20, min_samples_leaf=4, min_samples_split=5; total time=   0.0s\n",
            "[CV] END criterion=entropy, max_depth=20, min_samples_leaf=4, min_samples_split=5; total time=   0.0s\n",
            "[CV] END criterion=entropy, max_depth=20, min_samples_leaf=4, min_samples_split=5; total time=   0.0s\n",
            "[CV] END criterion=entropy, max_depth=20, min_samples_leaf=4, min_samples_split=5; total time=   0.0s\n",
            "[CV] END criterion=entropy, max_depth=20, min_samples_leaf=4, min_samples_split=5; total time=   0.0s\n",
            "[CV] END criterion=entropy, max_depth=20, min_samples_leaf=4, min_samples_split=10; total time=   0.0s\n",
            "[CV] END criterion=entropy, max_depth=20, min_samples_leaf=4, min_samples_split=10; total time=   0.0s\n",
            "[CV] END criterion=entropy, max_depth=20, min_samples_leaf=4, min_samples_split=10; total time=   0.0s\n",
            "[CV] END criterion=entropy, max_depth=20, min_samples_leaf=4, min_samples_split=10; total time=   0.0s\n",
            "[CV] END criterion=entropy, max_depth=20, min_samples_leaf=4, min_samples_split=10; total time=   0.0s\n",
            "Best parameters found for Decision Tree:  {'criterion': 'entropy', 'max_depth': 20, 'min_samples_leaf': 1, 'min_samples_split': 5}\n",
            "Best score found for Decision Tree:  0.9587745587745587\n"
          ]
        }
      ]
    },
    {
      "cell_type": "code",
      "source": [
        "model_dt = grid_dt.best_estimator_\n",
        "ypred_dt = model_dt.predict(x_test)\n",
        "\n",
        "print(classification_report(y_test, ypred_dt,digits=4))"
      ],
      "metadata": {
        "colab": {
          "base_uri": "https://localhost:8080/"
        },
        "id": "tEQeS-TLygM8",
        "outputId": "71131b10-27d1-4af6-8a65-f80d098b0103"
      },
      "execution_count": 55,
      "outputs": [
        {
          "output_type": "stream",
          "name": "stdout",
          "text": [
            "              precision    recall  f1-score   support\n",
            "\n",
            "           0     1.0000    0.5000    0.6667        12\n",
            "           1     0.8800    1.0000    0.9362        44\n",
            "\n",
            "    accuracy                         0.8929        56\n",
            "   macro avg     0.9400    0.7500    0.8014        56\n",
            "weighted avg     0.9057    0.8929    0.8784        56\n",
            "\n"
          ]
        }
      ]
    },
    {
      "cell_type": "code",
      "source": [
        "from sklearn.ensemble import RandomForestClassifier\n",
        "\n",
        "param_grid_rf = {'n_estimators': [100, 200, 500],\n",
        "                 'max_depth': [None, 5, 10, 15],\n",
        "                 'min_samples_split': [2, 5, 10],\n",
        "                 'min_samples_leaf': [1, 2, 4],\n",
        "                 'criterion': ['gini', 'entropy']}\n",
        "\n",
        "grid_rf = GridSearchCV(RandomForestClassifier(random_state=42), param_grid_rf, cv=5, verbose=2, n_jobs=-1)\n",
        "grid_rf.fit(x_train, y_train)\n",
        "\n",
        "print(\"Best parameters found for Random Forest: \", grid_rf.best_params_)\n",
        "print(\"Best score found for Random Forest: \", grid_rf.best_score_)"
      ],
      "metadata": {
        "colab": {
          "base_uri": "https://localhost:8080/"
        },
        "id": "iUlHC-b7ymIM",
        "outputId": "8dd7e4cb-b243-4201-e98f-7f115977d0ea"
      },
      "execution_count": 56,
      "outputs": [
        {
          "output_type": "stream",
          "name": "stdout",
          "text": [
            "Fitting 5 folds for each of 216 candidates, totalling 1080 fits\n",
            "Best parameters found for Random Forest:  {'criterion': 'gini', 'max_depth': None, 'min_samples_leaf': 1, 'min_samples_split': 2, 'n_estimators': 200}\n",
            "Best score found for Random Forest:  0.9664335664335665\n"
          ]
        }
      ]
    },
    {
      "cell_type": "code",
      "source": [
        "model_rf = grid_rf.best_estimator_\n",
        "ypred_rf = model_rf.predict(x_test)\n",
        "\n",
        "print(classification_report(y_test, ypred_rf,digits=4))"
      ],
      "metadata": {
        "colab": {
          "base_uri": "https://localhost:8080/"
        },
        "id": "DEj1wc_AyqX4",
        "outputId": "694be280-2bc0-41c2-a306-5e3d6bf26b03"
      },
      "execution_count": 57,
      "outputs": [
        {
          "output_type": "stream",
          "name": "stdout",
          "text": [
            "              precision    recall  f1-score   support\n",
            "\n",
            "           0     1.0000    0.5833    0.7368        12\n",
            "           1     0.8980    1.0000    0.9462        44\n",
            "\n",
            "    accuracy                         0.9107        56\n",
            "   macro avg     0.9490    0.7917    0.8415        56\n",
            "weighted avg     0.9198    0.9107    0.9014        56\n",
            "\n"
          ]
        }
      ]
    },
    {
      "cell_type": "code",
      "source": [
        "!pip install xgboost"
      ],
      "metadata": {
        "colab": {
          "base_uri": "https://localhost:8080/"
        },
        "id": "ZPNyKwDCyuG-",
        "outputId": "afbab4bc-15d4-4f38-e575-f17a87346f23"
      },
      "execution_count": 58,
      "outputs": [
        {
          "output_type": "stream",
          "name": "stdout",
          "text": [
            "Requirement already satisfied: xgboost in /usr/local/lib/python3.12/dist-packages (3.0.5)\n",
            "Requirement already satisfied: numpy in /usr/local/lib/python3.12/dist-packages (from xgboost) (2.0.2)\n",
            "Requirement already satisfied: nvidia-nccl-cu12 in /usr/local/lib/python3.12/dist-packages (from xgboost) (2.27.3)\n",
            "Requirement already satisfied: scipy in /usr/local/lib/python3.12/dist-packages (from xgboost) (1.16.2)\n"
          ]
        }
      ]
    },
    {
      "cell_type": "code",
      "source": [
        "from xgboost import XGBClassifier\n",
        "from sklearn.model_selection import GridSearchCV\n",
        "from sklearn.metrics import classification_report\n",
        "\n",
        "param_grid_xgb = {\n",
        "    'n_estimators': [100, 200, 500],\n",
        "    'max_depth': [3, 5, 7],\n",
        "    'learning_rate': [0.01, 0.1, 0.2],\n",
        "    'subsample': [0.6, 0.8, 1.0],\n",
        "    'colsample_bytree': [0.6, 0.8, 1.0]\n",
        "}\n",
        "\n",
        "grid_xgb = GridSearchCV(XGBClassifier(random_state=42), param_grid_xgb, cv=5, verbose=2, n_jobs=-1)\n",
        "grid_xgb.fit(x_train, y_train)\n",
        "\n",
        "print(\"Best parameters found for XGBoost: \", grid_xgb.best_params_)\n",
        "print(\"Best score found for XGBoost: \", grid_xgb.best_score_)"
      ],
      "metadata": {
        "colab": {
          "base_uri": "https://localhost:8080/"
        },
        "id": "sCDPEHTPyw2R",
        "outputId": "70bd7349-18cd-417e-9d61-756c57d94911"
      },
      "execution_count": 59,
      "outputs": [
        {
          "output_type": "stream",
          "name": "stdout",
          "text": [
            "Fitting 5 folds for each of 243 candidates, totalling 1215 fits\n",
            "Best parameters found for XGBoost:  {'colsample_bytree': 0.6, 'learning_rate': 0.1, 'max_depth': 7, 'n_estimators': 100, 'subsample': 0.6}\n",
            "Best score found for XGBoost:  0.9587745587745587\n"
          ]
        }
      ]
    },
    {
      "cell_type": "code",
      "source": [
        "model_xgb = grid_xgb.best_estimator_\n",
        "ypred_xgb = model_xgb.predict(x_test)\n",
        "\n",
        "print(classification_report(y_test, ypred_xgb,digits=4))"
      ],
      "metadata": {
        "colab": {
          "base_uri": "https://localhost:8080/"
        },
        "id": "73MZ6DWry0mn",
        "outputId": "cbcd8823-cc45-4d25-fe82-4e88e8e0a0ed"
      },
      "execution_count": 60,
      "outputs": [
        {
          "output_type": "stream",
          "name": "stdout",
          "text": [
            "              precision    recall  f1-score   support\n",
            "\n",
            "           0     0.8000    0.6667    0.7273        12\n",
            "           1     0.9130    0.9545    0.9333        44\n",
            "\n",
            "    accuracy                         0.8929        56\n",
            "   macro avg     0.8565    0.8106    0.8303        56\n",
            "weighted avg     0.8888    0.8929    0.8892        56\n",
            "\n"
          ]
        }
      ]
    },
    {
      "cell_type": "code",
      "source": [],
      "metadata": {
        "id": "NwP0Aiety3lv"
      },
      "execution_count": null,
      "outputs": []
    }
  ]
}