{
  "nbformat": 4,
  "nbformat_minor": 0,
  "metadata": {
    "colab": {
      "provenance": [],
      "authorship_tag": "ABX9TyO1FMB8CUTVoOoTLZ3Z7GP9",
      "include_colab_link": true
    },
    "kernelspec": {
      "name": "python3",
      "display_name": "Python 3"
    },
    "language_info": {
      "name": "python"
    }
  },
  "cells": [
    {
      "cell_type": "markdown",
      "metadata": {
        "id": "view-in-github",
        "colab_type": "text"
      },
      "source": [
        "<a href=\"https://colab.research.google.com/github/AhmedZaghl0ul/Machine-Learning/blob/main/Preprocessing.ipynb\" target=\"_parent\"><img src=\"https://colab.research.google.com/assets/colab-badge.svg\" alt=\"Open In Colab\"/></a>"
      ]
    },
    {
      "cell_type": "code",
      "execution_count": 1,
      "metadata": {
        "colab": {
          "base_uri": "https://localhost:8080/"
        },
        "id": "uUmxn5kg7laf",
        "outputId": "f5f70cd5-8d99-4af7-a5e3-0274d075566b"
      },
      "outputs": [
        {
          "output_type": "stream",
          "name": "stdout",
          "text": [
            "Start\n"
          ]
        }
      ],
      "source": [
        "print(\"Start\")"
      ]
    },
    {
      "cell_type": "code",
      "source": [
        "from sklearn.preprocessing import MinMaxScaler , StandardScaler , RobustScaler , Normalizer\n",
        "import pandas as pd\n",
        "import numpy as np"
      ],
      "metadata": {
        "id": "_uE_nm957qy4"
      },
      "execution_count": 11,
      "outputs": []
    },
    {
      "cell_type": "code",
      "source": [
        "data = {\n",
        "    'area': [50, 60, 80, 100, 120, 150],\n",
        "    'age': [20, 15, 10, 5, 2, 1],\n",
        "    'price': [400, 420, 480, 550, 610, 700]\n",
        "}"
      ],
      "metadata": {
        "id": "s5fIW6fT8aYa"
      },
      "execution_count": 3,
      "outputs": []
    },
    {
      "cell_type": "code",
      "source": [
        "df = pd.DataFrame(data)\n",
        "print(df)"
      ],
      "metadata": {
        "colab": {
          "base_uri": "https://localhost:8080/"
        },
        "id": "syC9pAOK8cc6",
        "outputId": "61cd686b-b8de-4277-ab4f-bca2b0ad0800"
      },
      "execution_count": 5,
      "outputs": [
        {
          "output_type": "stream",
          "name": "stdout",
          "text": [
            "   area  age  price\n",
            "0    50   20    400\n",
            "1    60   15    420\n",
            "2    80   10    480\n",
            "3   100    5    550\n",
            "4   120    2    610\n",
            "5   150    1    700\n"
          ]
        }
      ]
    },
    {
      "cell_type": "code",
      "source": [
        "minmax = MinMaxScaler()  # Range ==> 0 to 1\n",
        "minmax_fit = minmax.fit_transform(df)\n",
        "minmax_final = pd.DataFrame(minmax_fit , columns=df.columns)\n",
        "print(minmax_final)"
      ],
      "metadata": {
        "colab": {
          "base_uri": "https://localhost:8080/"
        },
        "id": "h87bPEL78pTl",
        "outputId": "a985378f-f2e1-47ba-f00b-462b00e6f9b0"
      },
      "execution_count": 7,
      "outputs": [
        {
          "output_type": "stream",
          "name": "stdout",
          "text": [
            "   area       age     price\n",
            "0   0.0  1.000000  0.000000\n",
            "1   0.1  0.736842  0.066667\n",
            "2   0.3  0.473684  0.266667\n",
            "3   0.5  0.210526  0.500000\n",
            "4   0.7  0.052632  0.700000\n",
            "5   1.0  0.000000  1.000000\n"
          ]
        }
      ]
    },
    {
      "cell_type": "code",
      "source": [
        "stan = StandardScaler()  # Range ==> -3 to 3\n",
        "stan_fit = stan.fit_transform(df)\n",
        "stan_final = pd.DataFrame(stan_fit , columns=df.columns)\n",
        "print(stan_final)"
      ],
      "metadata": {
        "colab": {
          "base_uri": "https://localhost:8080/"
        },
        "id": "1p54gLaw81G7",
        "outputId": "14faebe8-8bf6-4010-b86c-81cd6727710b"
      },
      "execution_count": 8,
      "outputs": [
        {
          "output_type": "stream",
          "name": "stdout",
          "text": [
            "       area       age     price\n",
            "0 -1.256757  1.615044 -1.197482\n",
            "1 -0.966736  0.891890 -1.008406\n",
            "2 -0.386695  0.168736 -0.441177\n",
            "3  0.193347 -0.554418  0.220589\n",
            "4  0.773389 -0.988311  0.787817\n",
            "5  1.643452 -1.132941  1.638659\n"
          ]
        }
      ]
    },
    {
      "cell_type": "code",
      "source": [
        "robs = RobustScaler()  # Range ==> -1 to 1 ??\n",
        "robs_fit = robs.fit_transform(df)\n",
        "robs_final = pd.DataFrame(robs_fit , columns=df.columns)\n",
        "print(robs_final)"
      ],
      "metadata": {
        "colab": {
          "base_uri": "https://localhost:8080/"
        },
        "id": "BH8NBw-u9hSN",
        "outputId": "c0e647b2-81bb-43c6-8b59-556d556dab90"
      },
      "execution_count": 9,
      "outputs": [
        {
          "output_type": "stream",
          "name": "stdout",
          "text": [
            "   area       age    price\n",
            "0  -0.8  1.136364 -0.71875\n",
            "1  -0.6  0.681818 -0.59375\n",
            "2  -0.2  0.227273 -0.21875\n",
            "3   0.2 -0.227273  0.21875\n",
            "4   0.6 -0.500000  0.59375\n",
            "5   1.2 -0.590909  1.15625\n"
          ]
        }
      ]
    },
    {
      "cell_type": "code",
      "source": [
        "normr = Normalizer()  # Range ==> 0 to 1 ??\n",
        "normr_fit = normr.fit_transform(df)\n",
        "normr_final = pd.DataFrame(normr_fit , columns=df.columns)\n",
        "print(normr_final)"
      ],
      "metadata": {
        "colab": {
          "base_uri": "https://localhost:8080/"
        },
        "id": "u_fLIti6-iZp",
        "outputId": "0884a8e9-b350-4db3-fa95-49d822a27ae1"
      },
      "execution_count": 12,
      "outputs": [
        {
          "output_type": "stream",
          "name": "stdout",
          "text": [
            "       area       age     price\n",
            "0  0.123882  0.049553  0.991059\n",
            "1  0.141333  0.035333  0.989331\n",
            "2  0.164364  0.020546  0.986186\n",
            "3  0.178878  0.008944  0.983831\n",
            "4  0.193021  0.003217  0.981189\n",
            "5  0.209529  0.001397  0.977801\n"
          ]
        }
      ]
    },
    {
      "cell_type": "code",
      "source": [],
      "metadata": {
        "id": "vFbqkFUd-x1B"
      },
      "execution_count": null,
      "outputs": []
    }
  ]
}