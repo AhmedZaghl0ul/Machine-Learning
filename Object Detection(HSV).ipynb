{
 "cells": [
  {
   "cell_type": "code",
   "execution_count": 2,
   "id": "0245f3b2",
   "metadata": {},
   "outputs": [],
   "source": [
    "import numpy as np \n",
    "import cv2 as c\n",
    "import os"
   ]
  },
  {
   "cell_type": "code",
   "execution_count": 3,
   "id": "182ebb06",
   "metadata": {},
   "outputs": [],
   "source": [
    "import cv2 as c\n",
    "import numpy as np\n",
    "\n",
    "frame = c.imread(\"smarties.png\")\n",
    "\n",
    "while True:\n",
    "    hsv = c.cvtColor(frame, c.COLOR_BGR2HSV)\n",
    "\n",
    "    lb = np.array([110, 50, 50])\n",
    "    ub = np.array([130, 255, 255])\n",
    "\n",
    "    mask = c.inRange(hsv, lb, ub)\n",
    "    res = c.bitwise_and(frame, frame, mask=mask)\n",
    "\n",
    "    c.imshow(\"Original\", frame)\n",
    "    c.imshow(\"Mask\", mask)\n",
    "    c.imshow(\"Result\", res)\n",
    "\n",
    "    k = c.waitKey(1) & 0xFF\n",
    "    if k == 27:  # مفتاح ESC\n",
    "        break\n",
    "\n",
    "c.destroyAllWindows()\n"
   ]
  },
  {
   "cell_type": "code",
   "execution_count": 4,
   "id": "86dc5474",
   "metadata": {},
   "outputs": [
    {
     "name": "stdout",
     "output_type": "stream",
     "text": [
      "255\n",
      "255\n",
      "255\n"
     ]
    }
   ],
   "source": [
    "def nothing(p):\n",
    "    print(p)\n",
    "\n",
    "\n",
    "c.namedWindow(\"Tracking\")\n",
    "c.createTrackbar('LH' , 'Tracking' , 0 , 255 , nothing)\n",
    "c.createTrackbar('LS' , 'Tracking' , 0 , 255 , nothing)\n",
    "c.createTrackbar('LV' , 'Tracking' , 0 , 255 , nothing)\n",
    "c.createTrackbar('UH' , 'Tracking' , 255 , 255 , nothing)\n",
    "c.createTrackbar('US' , 'Tracking' , 255 , 255 , nothing)\n",
    "c.createTrackbar('UV' , 'Tracking' , 255 , 255 , nothing)\n",
    "\n",
    "frame = c.imread(\"smarties.png\")\n",
    "\n",
    "while True:\n",
    "    hsv = c.cvtColor(frame, c.COLOR_BGR2HSV)\n",
    "\n",
    "    lh = c.getTrackbarPos('LH' , 'Tracking')\n",
    "    ls = c.getTrackbarPos('LS' , 'Tracking')\n",
    "    lv = c.getTrackbarPos('LV' , 'Tracking')\n",
    "    uh = c.getTrackbarPos('UH' , 'Tracking')\n",
    "    us = c.getTrackbarPos('US' , 'Tracking')\n",
    "    uv = c.getTrackbarPos('UV' , 'Tracking')\n",
    "\n",
    "    lb = np.array([lh , ls , lv])\n",
    "    ub = np.array([uh , us , uv])\n",
    "    \n",
    "    mask = c.inRange(hsv, lb, ub)\n",
    "    res = c.bitwise_and(frame, frame, mask=mask)\n",
    "\n",
    "    c.imshow(\"Original\", frame)\n",
    "    c.imshow(\"Mask\", mask)\n",
    "    c.imshow(\"Result\", res)\n",
    "\n",
    "    k = c.waitKey(1) & 0xFF\n",
    "    if k == 27:  # مفتاح ESC\n",
    "        break\n",
    "\n",
    "c.destroyAllWindows()\n"
   ]
  },
  {
   "cell_type": "code",
   "execution_count": null,
   "id": "7a9860f4",
   "metadata": {},
   "outputs": [],
   "source": []
  }
 ],
 "metadata": {
  "kernelspec": {
   "display_name": "jupyenv",
   "language": "python",
   "name": "python3"
  },
  "language_info": {
   "codemirror_mode": {
    "name": "ipython",
    "version": 3
   },
   "file_extension": ".py",
   "mimetype": "text/x-python",
   "name": "python",
   "nbconvert_exporter": "python",
   "pygments_lexer": "ipython3",
   "version": "3.12.12"
  }
 },
 "nbformat": 4,
 "nbformat_minor": 5
}
